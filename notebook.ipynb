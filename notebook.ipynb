{
 "cells": [
  {
   "cell_type": "markdown",
   "metadata": {},
   "source": [
    "# Microsoft Movie Studio Components Analysis\n"
   ]
  },
  {
   "cell_type": "markdown",
   "metadata": {},
   "source": [
    "# Business Understanding"
   ]
  },
  {
   "cell_type": "markdown",
   "metadata": {},
   "source": [
    "### Overview\n",
    "The project is investigating and analyzing what components are needed to get started in the movie production business. We will be using the top grossing genres domestically, top grossing directors domestically and domestic gross by release month, this will show what genres of film to initially to make, which directors to use and when is a good time to release the film"
   ]
  },
  {
   "cell_type": "markdown",
   "metadata": {},
   "source": [
    "# Data Understanding\n",
    "\n",
    "#### Gathering multiple CSV files to create a dictionary where the key is the name of the file and the value is data frame \n",
    "\n"
   ]
  },
  {
   "cell_type": "code",
   "execution_count": 1,
   "metadata": {
    "ExecuteTime": {
     "end_time": "2025-04-24T04:00:19.304311Z",
     "start_time": "2025-04-24T04:00:16.887571Z"
    }
   },
   "outputs": [],
   "source": [
    "#importing data using glob\n",
    "\n",
    "import os\n",
    "from glob import glob\n",
    "import pandas as pd\n",
    "\n",
    "csv_files = glob(\"./zippedData/*.csv.gz\")\n",
    "csv_files\n",
    "\n",
    "#cleaning the filenames\n",
    "csv_files_dict = {}\n",
    "for filename in csv_files:\n",
    "    filename_cleaned = os.path.basename(filename).replace(\".csv\", \"\").replace(\".\", \"_\") \n",
    "\n",
    "    filename_df = pd.read_csv(filename, index_col=0)\n",
    "    csv_files_dict[filename_cleaned] = filename_df\n",
    "\n"
   ]
  },
  {
   "cell_type": "markdown",
   "metadata": {},
   "source": [
    "#### Importing key Python libraries for data analysis and visualization"
   ]
  },
  {
   "cell_type": "code",
   "execution_count": 24,
   "metadata": {
    "ExecuteTime": {
     "end_time": "2022-04-14T03:19:32.228360Z",
     "start_time": "2022-04-14T03:19:31.767996Z"
    }
   },
   "outputs": [],
   "source": [
    "import matplotlib\n",
    "import matplotlib.pyplot as plt\n",
    "\n",
    "%matplotlib inline\n",
    "import numpy as np"
   ]
  },
  {
   "cell_type": "code",
   "execution_count": 26,
   "metadata": {
    "ExecuteTime": {
     "end_time": "2022-04-14T03:19:33.391563Z",
     "start_time": "2022-04-14T03:19:32.242263Z"
    }
   },
   "outputs": [],
   "source": [
    "import seaborn as sns"
   ]
  },
  {
   "cell_type": "code",
   "execution_count": 2,
   "metadata": {
    "ExecuteTime": {
     "end_time": "2022-04-14T03:19:31.089574Z",
     "start_time": "2022-04-14T03:19:31.080503Z"
    },
    "scrolled": false
   },
   "outputs": [
    {
     "data": {
      "text/plain": [
       "['./zippedData/imdb.title.crew.csv.gz',\n",
       " './zippedData/tmdb.movies.csv.gz',\n",
       " './zippedData/imdb.title.akas.csv.gz',\n",
       " './zippedData/imdb.title.ratings.csv.gz',\n",
       " './zippedData/imdb.name.basics.csv.gz',\n",
       " './zippedData/imdb.title.basics.csv.gz',\n",
       " './zippedData/tn.movie_budgets.csv.gz',\n",
       " './zippedData/bom.movie_gross.csv.gz',\n",
       " './zippedData/imdb.title.principals.csv.gz']"
      ]
     },
     "execution_count": 2,
     "metadata": {},
     "output_type": "execute_result"
    }
   ],
   "source": [
    "csv_files"
   ]
  },
  {
   "cell_type": "code",
   "execution_count": 4,
   "metadata": {
    "ExecuteTime": {
     "end_time": "2022-04-14T03:19:31.145567Z",
     "start_time": "2022-04-14T03:19:31.141308Z"
    }
   },
   "outputs": [
    {
     "data": {
      "text/plain": [
       "dict_keys(['imdb_title_crew_gz', 'tmdb_movies_gz', 'imdb_title_akas_gz', 'imdb_title_ratings_gz', 'imdb_name_basics_gz', 'imdb_title_basics_gz', 'tn_movie_budgets_gz', 'bom_movie_gross_gz', 'imdb_title_principals_gz'])"
      ]
     },
     "execution_count": 4,
     "metadata": {},
     "output_type": "execute_result"
    }
   ],
   "source": [
    "# Showing the key for diction tah was created\n",
    "\n",
    "csv_files_dict.keys()"
   ]
  },
  {
   "cell_type": "markdown",
   "metadata": {},
   "source": [
    "## Data Preparation\n"
   ]
  },
  {
   "cell_type": "markdown",
   "metadata": {},
   "source": [
    "#### Assigning variables to imported and cleaned DataFrames"
   ]
  },
  {
   "cell_type": "code",
   "execution_count": 5,
   "metadata": {
    "ExecuteTime": {
     "end_time": "2022-04-14T03:19:31.150256Z",
     "start_time": "2022-04-14T03:19:31.147618Z"
    }
   },
   "outputs": [],
   "source": [
    "imdb_title_principals_df = csv_files_dict['imdb_title_principals_gz']"
   ]
  },
  {
   "cell_type": "code",
   "execution_count": 6,
   "metadata": {
    "ExecuteTime": {
     "end_time": "2022-04-14T03:19:31.155010Z",
     "start_time": "2022-04-14T03:19:31.152454Z"
    }
   },
   "outputs": [],
   "source": [
    "tmdb_movies_df = csv_files_dict['tmdb_movies_gz']"
   ]
  },
  {
   "cell_type": "code",
   "execution_count": 7,
   "metadata": {
    "ExecuteTime": {
     "end_time": "2022-04-14T03:19:31.159436Z",
     "start_time": "2022-04-14T03:19:31.157106Z"
    }
   },
   "outputs": [],
   "source": [
    "bom_movie_gross_df = csv_files_dict['bom_movie_gross_gz']"
   ]
  },
  {
   "cell_type": "code",
   "execution_count": 8,
   "metadata": {
    "ExecuteTime": {
     "end_time": "2022-04-14T03:19:31.166371Z",
     "start_time": "2022-04-14T03:19:31.163929Z"
    }
   },
   "outputs": [],
   "source": [
    "imdb_title_basics_df = csv_files_dict['imdb_title_basics_gz']"
   ]
  },
  {
   "cell_type": "code",
   "execution_count": 9,
   "metadata": {
    "ExecuteTime": {
     "end_time": "2022-04-14T03:19:31.171725Z",
     "start_time": "2022-04-14T03:19:31.169392Z"
    }
   },
   "outputs": [],
   "source": [
    "imdb_title_crew_df = csv_files_dict['imdb_title_crew_gz']"
   ]
  },
  {
   "cell_type": "code",
   "execution_count": 10,
   "metadata": {
    "ExecuteTime": {
     "end_time": "2022-04-14T03:19:31.175986Z",
     "start_time": "2022-04-14T03:19:31.173710Z"
    }
   },
   "outputs": [],
   "source": [
    "imdb_name_basics_df = csv_files_dict['imdb_name_basics_gz']"
   ]
  },
  {
   "cell_type": "code",
   "execution_count": 11,
   "metadata": {
    "ExecuteTime": {
     "end_time": "2022-04-14T03:19:31.180027Z",
     "start_time": "2022-04-14T03:19:31.177913Z"
    }
   },
   "outputs": [],
   "source": [
    "imdb_title_akas_df = csv_files_dict['imdb_title_akas_gz']"
   ]
  },
  {
   "cell_type": "code",
   "execution_count": 12,
   "metadata": {
    "ExecuteTime": {
     "end_time": "2022-04-14T03:19:31.184105Z",
     "start_time": "2022-04-14T03:19:31.181815Z"
    }
   },
   "outputs": [],
   "source": [
    "tn_movie_budgets_df = csv_files_dict['tn_movie_budgets_gz']"
   ]
  },
  {
   "cell_type": "markdown",
   "metadata": {},
   "source": [
    "### Top Grossing Genres Domestically\n",
    "#### imdb_title_basics DataFrame, setting index for 'primary title' column"
   ]
  },
  {
   "cell_type": "code",
   "execution_count": 13,
   "metadata": {
    "ExecuteTime": {
     "end_time": "2022-04-14T03:19:31.211553Z",
     "start_time": "2022-04-14T03:19:31.185913Z"
    },
    "scrolled": true
   },
   "outputs": [
    {
     "data": {
      "text/html": [
       "<div>\n",
       "<style scoped>\n",
       "    .dataframe tbody tr th:only-of-type {\n",
       "        vertical-align: middle;\n",
       "    }\n",
       "\n",
       "    .dataframe tbody tr th {\n",
       "        vertical-align: top;\n",
       "    }\n",
       "\n",
       "    .dataframe thead th {\n",
       "        text-align: right;\n",
       "    }\n",
       "</style>\n",
       "<table border=\"1\" class=\"dataframe\">\n",
       "  <thead>\n",
       "    <tr style=\"text-align: right;\">\n",
       "      <th></th>\n",
       "      <th>original_title</th>\n",
       "      <th>start_year</th>\n",
       "      <th>runtime_minutes</th>\n",
       "      <th>genres</th>\n",
       "    </tr>\n",
       "    <tr>\n",
       "      <th>primary_title</th>\n",
       "      <th></th>\n",
       "      <th></th>\n",
       "      <th></th>\n",
       "      <th></th>\n",
       "    </tr>\n",
       "  </thead>\n",
       "  <tbody>\n",
       "    <tr>\n",
       "      <th>Sunghursh</th>\n",
       "      <td>Sunghursh</td>\n",
       "      <td>2013</td>\n",
       "      <td>175.0</td>\n",
       "      <td>Action,Crime,Drama</td>\n",
       "    </tr>\n",
       "    <tr>\n",
       "      <th>One Day Before the Rainy Season</th>\n",
       "      <td>Ashad Ka Ek Din</td>\n",
       "      <td>2019</td>\n",
       "      <td>114.0</td>\n",
       "      <td>Biography,Drama</td>\n",
       "    </tr>\n",
       "    <tr>\n",
       "      <th>The Other Side of the Wind</th>\n",
       "      <td>The Other Side of the Wind</td>\n",
       "      <td>2018</td>\n",
       "      <td>122.0</td>\n",
       "      <td>Drama</td>\n",
       "    </tr>\n",
       "    <tr>\n",
       "      <th>Sabse Bada Sukh</th>\n",
       "      <td>Sabse Bada Sukh</td>\n",
       "      <td>2018</td>\n",
       "      <td>NaN</td>\n",
       "      <td>Comedy,Drama</td>\n",
       "    </tr>\n",
       "    <tr>\n",
       "      <th>The Wandering Soap Opera</th>\n",
       "      <td>La Telenovela Errante</td>\n",
       "      <td>2017</td>\n",
       "      <td>80.0</td>\n",
       "      <td>Comedy,Drama,Fantasy</td>\n",
       "    </tr>\n",
       "  </tbody>\n",
       "</table>\n",
       "</div>"
      ],
      "text/plain": [
       "                                             original_title  start_year  \\\n",
       "primary_title                                                             \n",
       "Sunghursh                                         Sunghursh        2013   \n",
       "One Day Before the Rainy Season             Ashad Ka Ek Din        2019   \n",
       "The Other Side of the Wind       The Other Side of the Wind        2018   \n",
       "Sabse Bada Sukh                             Sabse Bada Sukh        2018   \n",
       "The Wandering Soap Opera              La Telenovela Errante        2017   \n",
       "\n",
       "                                 runtime_minutes                genres  \n",
       "primary_title                                                           \n",
       "Sunghursh                                  175.0    Action,Crime,Drama  \n",
       "One Day Before the Rainy Season            114.0       Biography,Drama  \n",
       "The Other Side of the Wind                 122.0                 Drama  \n",
       "Sabse Bada Sukh                              NaN          Comedy,Drama  \n",
       "The Wandering Soap Opera                    80.0  Comedy,Drama,Fantasy  "
      ]
     },
     "execution_count": 13,
     "metadata": {},
     "output_type": "execute_result"
    }
   ],
   "source": [
    "imdb_title_basics_df.set_index('primary_title', inplace=True)\n",
    "imdb_title_basics_df.head()"
   ]
  },
  {
   "cell_type": "code",
   "execution_count": 14,
   "metadata": {
    "ExecuteTime": {
     "end_time": "2022-04-14T03:19:31.545845Z",
     "start_time": "2022-04-14T03:19:31.213740Z"
    }
   },
   "outputs": [],
   "source": [
    "'''Joining imdb_title_basics and bom_movie_gross data frames, \n",
    "by doing so these two data frames will give us \n",
    "the genres and domestic gross columns we need\n",
    "'''\n",
    "genres_domestic_gross_foreign_gross_df = imdb_title_basics_df.join(bom_movie_gross_df, how='inner')"
   ]
  },
  {
   "cell_type": "code",
   "execution_count": 15,
   "metadata": {
    "ExecuteTime": {
     "end_time": "2022-04-14T03:19:31.559030Z",
     "start_time": "2022-04-14T03:19:31.547563Z"
    },
    "scrolled": true
   },
   "outputs": [
    {
     "data": {
      "text/html": [
       "<div>\n",
       "<style scoped>\n",
       "    .dataframe tbody tr th:only-of-type {\n",
       "        vertical-align: middle;\n",
       "    }\n",
       "\n",
       "    .dataframe tbody tr th {\n",
       "        vertical-align: top;\n",
       "    }\n",
       "\n",
       "    .dataframe thead th {\n",
       "        text-align: right;\n",
       "    }\n",
       "</style>\n",
       "<table border=\"1\" class=\"dataframe\">\n",
       "  <thead>\n",
       "    <tr style=\"text-align: right;\">\n",
       "      <th></th>\n",
       "      <th>original_title</th>\n",
       "      <th>start_year</th>\n",
       "      <th>runtime_minutes</th>\n",
       "      <th>genres</th>\n",
       "      <th>studio</th>\n",
       "      <th>domestic_gross</th>\n",
       "      <th>foreign_gross</th>\n",
       "      <th>year</th>\n",
       "    </tr>\n",
       "  </thead>\n",
       "  <tbody>\n",
       "    <tr>\n",
       "      <th>'71</th>\n",
       "      <td>'71</td>\n",
       "      <td>2014</td>\n",
       "      <td>99.0</td>\n",
       "      <td>Action,Drama,Thriller</td>\n",
       "      <td>RAtt.</td>\n",
       "      <td>1300000.0</td>\n",
       "      <td>355000</td>\n",
       "      <td>2015</td>\n",
       "    </tr>\n",
       "    <tr>\n",
       "      <th>1,000 Times Good Night</th>\n",
       "      <td>Tusen ganger god natt</td>\n",
       "      <td>2013</td>\n",
       "      <td>117.0</td>\n",
       "      <td>Drama,War</td>\n",
       "      <td>FM</td>\n",
       "      <td>53900.0</td>\n",
       "      <td>NaN</td>\n",
       "      <td>2014</td>\n",
       "    </tr>\n",
       "    <tr>\n",
       "      <th>10 Cloverfield Lane</th>\n",
       "      <td>10 Cloverfield Lane</td>\n",
       "      <td>2016</td>\n",
       "      <td>103.0</td>\n",
       "      <td>Drama,Horror,Mystery</td>\n",
       "      <td>Par.</td>\n",
       "      <td>72100000.0</td>\n",
       "      <td>38100000</td>\n",
       "      <td>2016</td>\n",
       "    </tr>\n",
       "    <tr>\n",
       "      <th>10 Years</th>\n",
       "      <td>10 Years</td>\n",
       "      <td>2011</td>\n",
       "      <td>100.0</td>\n",
       "      <td>Comedy,Drama,Romance</td>\n",
       "      <td>Anch.</td>\n",
       "      <td>203000.0</td>\n",
       "      <td>NaN</td>\n",
       "      <td>2012</td>\n",
       "    </tr>\n",
       "    <tr>\n",
       "      <th>1001 Grams</th>\n",
       "      <td>1001 Gram</td>\n",
       "      <td>2014</td>\n",
       "      <td>93.0</td>\n",
       "      <td>Drama</td>\n",
       "      <td>KL</td>\n",
       "      <td>11000.0</td>\n",
       "      <td>NaN</td>\n",
       "      <td>2015</td>\n",
       "    </tr>\n",
       "  </tbody>\n",
       "</table>\n",
       "</div>"
      ],
      "text/plain": [
       "                               original_title  start_year  runtime_minutes  \\\n",
       "'71                                       '71        2014             99.0   \n",
       "1,000 Times Good Night  Tusen ganger god natt        2013            117.0   \n",
       "10 Cloverfield Lane       10 Cloverfield Lane        2016            103.0   \n",
       "10 Years                             10 Years        2011            100.0   \n",
       "1001 Grams                          1001 Gram        2014             93.0   \n",
       "\n",
       "                                       genres studio  domestic_gross  \\\n",
       "'71                     Action,Drama,Thriller  RAtt.       1300000.0   \n",
       "1,000 Times Good Night              Drama,War     FM         53900.0   \n",
       "10 Cloverfield Lane      Drama,Horror,Mystery   Par.      72100000.0   \n",
       "10 Years                 Comedy,Drama,Romance  Anch.        203000.0   \n",
       "1001 Grams                              Drama     KL         11000.0   \n",
       "\n",
       "                       foreign_gross  year  \n",
       "'71                           355000  2015  \n",
       "1,000 Times Good Night           NaN  2014  \n",
       "10 Cloverfield Lane         38100000  2016  \n",
       "10 Years                         NaN  2012  \n",
       "1001 Grams                       NaN  2015  "
      ]
     },
     "execution_count": 15,
     "metadata": {},
     "output_type": "execute_result"
    }
   ],
   "source": [
    "genres_domestic_gross_foreign_gross_df.head()"
   ]
  },
  {
   "cell_type": "markdown",
   "metadata": {},
   "source": [
    "#### Using a split to remove the commas from the 'genres' column"
   ]
  },
  {
   "cell_type": "code",
   "execution_count": 16,
   "metadata": {
    "ExecuteTime": {
     "end_time": "2022-04-14T03:19:31.567199Z",
     "start_time": "2022-04-14T03:19:31.561154Z"
    }
   },
   "outputs": [],
   "source": [
    "genres_domestic_gross_foreign_gross_df.genres = genres_domestic_gross_foreign_gross_df.genres.str.split(\",\")"
   ]
  },
  {
   "cell_type": "markdown",
   "metadata": {},
   "source": [
    "#### The explode of 'genres' column will give each genres its own row"
   ]
  },
  {
   "cell_type": "code",
   "execution_count": 17,
   "metadata": {
    "ExecuteTime": {
     "end_time": "2022-04-14T03:19:31.612997Z",
     "start_time": "2022-04-14T03:19:31.569412Z"
    }
   },
   "outputs": [
    {
     "data": {
      "text/html": [
       "<div>\n",
       "<style scoped>\n",
       "    .dataframe tbody tr th:only-of-type {\n",
       "        vertical-align: middle;\n",
       "    }\n",
       "\n",
       "    .dataframe tbody tr th {\n",
       "        vertical-align: top;\n",
       "    }\n",
       "\n",
       "    .dataframe thead th {\n",
       "        text-align: right;\n",
       "    }\n",
       "</style>\n",
       "<table border=\"1\" class=\"dataframe\">\n",
       "  <thead>\n",
       "    <tr style=\"text-align: right;\">\n",
       "      <th></th>\n",
       "      <th>original_title</th>\n",
       "      <th>start_year</th>\n",
       "      <th>runtime_minutes</th>\n",
       "      <th>genres</th>\n",
       "      <th>studio</th>\n",
       "      <th>domestic_gross</th>\n",
       "      <th>foreign_gross</th>\n",
       "      <th>year</th>\n",
       "    </tr>\n",
       "  </thead>\n",
       "  <tbody>\n",
       "    <tr>\n",
       "      <th>'71</th>\n",
       "      <td>'71</td>\n",
       "      <td>2014</td>\n",
       "      <td>99.0</td>\n",
       "      <td>Action</td>\n",
       "      <td>RAtt.</td>\n",
       "      <td>1300000.0</td>\n",
       "      <td>355000</td>\n",
       "      <td>2015</td>\n",
       "    </tr>\n",
       "    <tr>\n",
       "      <th>'71</th>\n",
       "      <td>'71</td>\n",
       "      <td>2014</td>\n",
       "      <td>99.0</td>\n",
       "      <td>Drama</td>\n",
       "      <td>RAtt.</td>\n",
       "      <td>1300000.0</td>\n",
       "      <td>355000</td>\n",
       "      <td>2015</td>\n",
       "    </tr>\n",
       "    <tr>\n",
       "      <th>'71</th>\n",
       "      <td>'71</td>\n",
       "      <td>2014</td>\n",
       "      <td>99.0</td>\n",
       "      <td>Thriller</td>\n",
       "      <td>RAtt.</td>\n",
       "      <td>1300000.0</td>\n",
       "      <td>355000</td>\n",
       "      <td>2015</td>\n",
       "    </tr>\n",
       "    <tr>\n",
       "      <th>1,000 Times Good Night</th>\n",
       "      <td>Tusen ganger god natt</td>\n",
       "      <td>2013</td>\n",
       "      <td>117.0</td>\n",
       "      <td>Drama</td>\n",
       "      <td>FM</td>\n",
       "      <td>53900.0</td>\n",
       "      <td>NaN</td>\n",
       "      <td>2014</td>\n",
       "    </tr>\n",
       "    <tr>\n",
       "      <th>1,000 Times Good Night</th>\n",
       "      <td>Tusen ganger god natt</td>\n",
       "      <td>2013</td>\n",
       "      <td>117.0</td>\n",
       "      <td>War</td>\n",
       "      <td>FM</td>\n",
       "      <td>53900.0</td>\n",
       "      <td>NaN</td>\n",
       "      <td>2014</td>\n",
       "    </tr>\n",
       "    <tr>\n",
       "      <th>...</th>\n",
       "      <td>...</td>\n",
       "      <td>...</td>\n",
       "      <td>...</td>\n",
       "      <td>...</td>\n",
       "      <td>...</td>\n",
       "      <td>...</td>\n",
       "      <td>...</td>\n",
       "      <td>...</td>\n",
       "    </tr>\n",
       "    <tr>\n",
       "      <th>Zookeeper</th>\n",
       "      <td>Zookeeper</td>\n",
       "      <td>2011</td>\n",
       "      <td>102.0</td>\n",
       "      <td>Romance</td>\n",
       "      <td>Sony</td>\n",
       "      <td>80400000.0</td>\n",
       "      <td>89500000</td>\n",
       "      <td>2011</td>\n",
       "    </tr>\n",
       "    <tr>\n",
       "      <th>Zoolander 2</th>\n",
       "      <td>Zoolander 2</td>\n",
       "      <td>2016</td>\n",
       "      <td>101.0</td>\n",
       "      <td>Comedy</td>\n",
       "      <td>Par.</td>\n",
       "      <td>28800000.0</td>\n",
       "      <td>27900000</td>\n",
       "      <td>2016</td>\n",
       "    </tr>\n",
       "    <tr>\n",
       "      <th>Zootopia</th>\n",
       "      <td>Zootopia</td>\n",
       "      <td>2016</td>\n",
       "      <td>108.0</td>\n",
       "      <td>Adventure</td>\n",
       "      <td>BV</td>\n",
       "      <td>341300000.0</td>\n",
       "      <td>682500000</td>\n",
       "      <td>2016</td>\n",
       "    </tr>\n",
       "    <tr>\n",
       "      <th>Zootopia</th>\n",
       "      <td>Zootopia</td>\n",
       "      <td>2016</td>\n",
       "      <td>108.0</td>\n",
       "      <td>Animation</td>\n",
       "      <td>BV</td>\n",
       "      <td>341300000.0</td>\n",
       "      <td>682500000</td>\n",
       "      <td>2016</td>\n",
       "    </tr>\n",
       "    <tr>\n",
       "      <th>Zootopia</th>\n",
       "      <td>Zootopia</td>\n",
       "      <td>2016</td>\n",
       "      <td>108.0</td>\n",
       "      <td>Comedy</td>\n",
       "      <td>BV</td>\n",
       "      <td>341300000.0</td>\n",
       "      <td>682500000</td>\n",
       "      <td>2016</td>\n",
       "    </tr>\n",
       "  </tbody>\n",
       "</table>\n",
       "<p>7471 rows × 8 columns</p>\n",
       "</div>"
      ],
      "text/plain": [
       "                               original_title  start_year  runtime_minutes  \\\n",
       "'71                                       '71        2014             99.0   \n",
       "'71                                       '71        2014             99.0   \n",
       "'71                                       '71        2014             99.0   \n",
       "1,000 Times Good Night  Tusen ganger god natt        2013            117.0   \n",
       "1,000 Times Good Night  Tusen ganger god natt        2013            117.0   \n",
       "...                                       ...         ...              ...   \n",
       "Zookeeper                           Zookeeper        2011            102.0   \n",
       "Zoolander 2                       Zoolander 2        2016            101.0   \n",
       "Zootopia                             Zootopia        2016            108.0   \n",
       "Zootopia                             Zootopia        2016            108.0   \n",
       "Zootopia                             Zootopia        2016            108.0   \n",
       "\n",
       "                           genres studio  domestic_gross foreign_gross  year  \n",
       "'71                        Action  RAtt.       1300000.0        355000  2015  \n",
       "'71                         Drama  RAtt.       1300000.0        355000  2015  \n",
       "'71                      Thriller  RAtt.       1300000.0        355000  2015  \n",
       "1,000 Times Good Night      Drama     FM         53900.0           NaN  2014  \n",
       "1,000 Times Good Night        War     FM         53900.0           NaN  2014  \n",
       "...                           ...    ...             ...           ...   ...  \n",
       "Zookeeper                 Romance   Sony      80400000.0      89500000  2011  \n",
       "Zoolander 2                Comedy   Par.      28800000.0      27900000  2016  \n",
       "Zootopia                Adventure     BV     341300000.0     682500000  2016  \n",
       "Zootopia                Animation     BV     341300000.0     682500000  2016  \n",
       "Zootopia                   Comedy     BV     341300000.0     682500000  2016  \n",
       "\n",
       "[7471 rows x 8 columns]"
      ]
     },
     "execution_count": 17,
     "metadata": {},
     "output_type": "execute_result"
    }
   ],
   "source": [
    "genres_domestic_gross_foreign_gross_df.explode('genres')"
   ]
  },
  {
   "cell_type": "markdown",
   "metadata": {},
   "source": [
    "#### Naming the new data frame and once again doing an explode and reset index"
   ]
  },
  {
   "cell_type": "code",
   "execution_count": 18,
   "metadata": {
    "ExecuteTime": {
     "end_time": "2022-04-14T03:19:31.635396Z",
     "start_time": "2022-04-14T03:19:31.615243Z"
    },
    "scrolled": false
   },
   "outputs": [],
   "source": [
    "genres_dg_fg_df = genres_domestic_gross_foreign_gross_df.explode('genres').reset_index(drop=True)\n"
   ]
  },
  {
   "cell_type": "code",
   "execution_count": 19,
   "metadata": {
    "ExecuteTime": {
     "end_time": "2022-04-14T03:19:31.680620Z",
     "start_time": "2022-04-14T03:19:31.637660Z"
    },
    "scrolled": false
   },
   "outputs": [
    {
     "data": {
      "text/html": [
       "<div>\n",
       "<style scoped>\n",
       "    .dataframe tbody tr th:only-of-type {\n",
       "        vertical-align: middle;\n",
       "    }\n",
       "\n",
       "    .dataframe tbody tr th {\n",
       "        vertical-align: top;\n",
       "    }\n",
       "\n",
       "    .dataframe thead th {\n",
       "        text-align: right;\n",
       "    }\n",
       "</style>\n",
       "<table border=\"1\" class=\"dataframe\">\n",
       "  <thead>\n",
       "    <tr style=\"text-align: right;\">\n",
       "      <th></th>\n",
       "      <th>original_title</th>\n",
       "      <th>start_year</th>\n",
       "      <th>runtime_minutes</th>\n",
       "      <th>genres</th>\n",
       "      <th>studio</th>\n",
       "      <th>domestic_gross</th>\n",
       "      <th>foreign_gross</th>\n",
       "      <th>year</th>\n",
       "    </tr>\n",
       "  </thead>\n",
       "  <tbody>\n",
       "    <tr>\n",
       "      <th>0</th>\n",
       "      <td>'71</td>\n",
       "      <td>2014</td>\n",
       "      <td>99.0</td>\n",
       "      <td>Action</td>\n",
       "      <td>RAtt.</td>\n",
       "      <td>1300000.0</td>\n",
       "      <td>355000</td>\n",
       "      <td>2015</td>\n",
       "    </tr>\n",
       "    <tr>\n",
       "      <th>1</th>\n",
       "      <td>'71</td>\n",
       "      <td>2014</td>\n",
       "      <td>99.0</td>\n",
       "      <td>Drama</td>\n",
       "      <td>RAtt.</td>\n",
       "      <td>1300000.0</td>\n",
       "      <td>355000</td>\n",
       "      <td>2015</td>\n",
       "    </tr>\n",
       "    <tr>\n",
       "      <th>2</th>\n",
       "      <td>'71</td>\n",
       "      <td>2014</td>\n",
       "      <td>99.0</td>\n",
       "      <td>Thriller</td>\n",
       "      <td>RAtt.</td>\n",
       "      <td>1300000.0</td>\n",
       "      <td>355000</td>\n",
       "      <td>2015</td>\n",
       "    </tr>\n",
       "    <tr>\n",
       "      <th>3</th>\n",
       "      <td>Tusen ganger god natt</td>\n",
       "      <td>2013</td>\n",
       "      <td>117.0</td>\n",
       "      <td>Drama</td>\n",
       "      <td>FM</td>\n",
       "      <td>53900.0</td>\n",
       "      <td>NaN</td>\n",
       "      <td>2014</td>\n",
       "    </tr>\n",
       "    <tr>\n",
       "      <th>4</th>\n",
       "      <td>Tusen ganger god natt</td>\n",
       "      <td>2013</td>\n",
       "      <td>117.0</td>\n",
       "      <td>War</td>\n",
       "      <td>FM</td>\n",
       "      <td>53900.0</td>\n",
       "      <td>NaN</td>\n",
       "      <td>2014</td>\n",
       "    </tr>\n",
       "    <tr>\n",
       "      <th>5</th>\n",
       "      <td>10 Cloverfield Lane</td>\n",
       "      <td>2016</td>\n",
       "      <td>103.0</td>\n",
       "      <td>Drama</td>\n",
       "      <td>Par.</td>\n",
       "      <td>72100000.0</td>\n",
       "      <td>38100000</td>\n",
       "      <td>2016</td>\n",
       "    </tr>\n",
       "    <tr>\n",
       "      <th>6</th>\n",
       "      <td>10 Cloverfield Lane</td>\n",
       "      <td>2016</td>\n",
       "      <td>103.0</td>\n",
       "      <td>Horror</td>\n",
       "      <td>Par.</td>\n",
       "      <td>72100000.0</td>\n",
       "      <td>38100000</td>\n",
       "      <td>2016</td>\n",
       "    </tr>\n",
       "    <tr>\n",
       "      <th>7</th>\n",
       "      <td>10 Cloverfield Lane</td>\n",
       "      <td>2016</td>\n",
       "      <td>103.0</td>\n",
       "      <td>Mystery</td>\n",
       "      <td>Par.</td>\n",
       "      <td>72100000.0</td>\n",
       "      <td>38100000</td>\n",
       "      <td>2016</td>\n",
       "    </tr>\n",
       "    <tr>\n",
       "      <th>8</th>\n",
       "      <td>10 Years</td>\n",
       "      <td>2011</td>\n",
       "      <td>100.0</td>\n",
       "      <td>Comedy</td>\n",
       "      <td>Anch.</td>\n",
       "      <td>203000.0</td>\n",
       "      <td>NaN</td>\n",
       "      <td>2012</td>\n",
       "    </tr>\n",
       "    <tr>\n",
       "      <th>9</th>\n",
       "      <td>10 Years</td>\n",
       "      <td>2011</td>\n",
       "      <td>100.0</td>\n",
       "      <td>Drama</td>\n",
       "      <td>Anch.</td>\n",
       "      <td>203000.0</td>\n",
       "      <td>NaN</td>\n",
       "      <td>2012</td>\n",
       "    </tr>\n",
       "  </tbody>\n",
       "</table>\n",
       "</div>"
      ],
      "text/plain": [
       "          original_title  start_year  runtime_minutes    genres studio  \\\n",
       "0                    '71        2014             99.0    Action  RAtt.   \n",
       "1                    '71        2014             99.0     Drama  RAtt.   \n",
       "2                    '71        2014             99.0  Thriller  RAtt.   \n",
       "3  Tusen ganger god natt        2013            117.0     Drama     FM   \n",
       "4  Tusen ganger god natt        2013            117.0       War     FM   \n",
       "5    10 Cloverfield Lane        2016            103.0     Drama   Par.   \n",
       "6    10 Cloverfield Lane        2016            103.0    Horror   Par.   \n",
       "7    10 Cloverfield Lane        2016            103.0   Mystery   Par.   \n",
       "8               10 Years        2011            100.0    Comedy  Anch.   \n",
       "9               10 Years        2011            100.0     Drama  Anch.   \n",
       "\n",
       "   domestic_gross foreign_gross  year  \n",
       "0       1300000.0        355000  2015  \n",
       "1       1300000.0        355000  2015  \n",
       "2       1300000.0        355000  2015  \n",
       "3         53900.0           NaN  2014  \n",
       "4         53900.0           NaN  2014  \n",
       "5      72100000.0      38100000  2016  \n",
       "6      72100000.0      38100000  2016  \n",
       "7      72100000.0      38100000  2016  \n",
       "8        203000.0           NaN  2012  \n",
       "9        203000.0           NaN  2012  "
      ]
     },
     "execution_count": 19,
     "metadata": {},
     "output_type": "execute_result"
    }
   ],
   "source": [
    "genres_dg_fg_df.head(n=10)"
   ]
  },
  {
   "cell_type": "markdown",
   "metadata": {},
   "source": [
    "#### Groupby genres_dg_fg_mean_df"
   ]
  },
  {
   "cell_type": "code",
   "execution_count": 20,
   "metadata": {
    "ExecuteTime": {
     "end_time": "2022-04-14T03:19:31.706546Z",
     "start_time": "2022-04-14T03:19:31.693280Z"
    },
    "scrolled": false
   },
   "outputs": [],
   "source": [
    "# This will give generate the mean gross of a particular genre\n",
    "\n",
    "genres_dg_fg_mean_df = genres_dg_fg_df.groupby('genres').mean()"
   ]
  },
  {
   "cell_type": "code",
   "execution_count": 21,
   "metadata": {
    "ExecuteTime": {
     "end_time": "2022-04-14T03:19:31.723780Z",
     "start_time": "2022-04-14T03:19:31.709816Z"
    },
    "scrolled": true
   },
   "outputs": [
    {
     "data": {
      "text/html": [
       "<div>\n",
       "<style scoped>\n",
       "    .dataframe tbody tr th:only-of-type {\n",
       "        vertical-align: middle;\n",
       "    }\n",
       "\n",
       "    .dataframe tbody tr th {\n",
       "        vertical-align: top;\n",
       "    }\n",
       "\n",
       "    .dataframe thead th {\n",
       "        text-align: right;\n",
       "    }\n",
       "</style>\n",
       "<table border=\"1\" class=\"dataframe\">\n",
       "  <thead>\n",
       "    <tr style=\"text-align: right;\">\n",
       "      <th></th>\n",
       "      <th>start_year</th>\n",
       "      <th>runtime_minutes</th>\n",
       "      <th>domestic_gross</th>\n",
       "      <th>year</th>\n",
       "    </tr>\n",
       "    <tr>\n",
       "      <th>genres</th>\n",
       "      <th></th>\n",
       "      <th></th>\n",
       "      <th></th>\n",
       "      <th></th>\n",
       "    </tr>\n",
       "  </thead>\n",
       "  <tbody>\n",
       "    <tr>\n",
       "      <th>Action</th>\n",
       "      <td>2014.024096</td>\n",
       "      <td>115.061444</td>\n",
       "      <td>5.841816e+07</td>\n",
       "      <td>2014.072289</td>\n",
       "    </tr>\n",
       "    <tr>\n",
       "      <th>Adventure</th>\n",
       "      <td>2014.165919</td>\n",
       "      <td>109.622472</td>\n",
       "      <td>9.440941e+07</td>\n",
       "      <td>2014.278027</td>\n",
       "    </tr>\n",
       "    <tr>\n",
       "      <th>Animation</th>\n",
       "      <td>2014.197452</td>\n",
       "      <td>94.812903</td>\n",
       "      <td>8.732619e+07</td>\n",
       "      <td>2014.477707</td>\n",
       "    </tr>\n",
       "    <tr>\n",
       "      <th>Biography</th>\n",
       "      <td>2014.392157</td>\n",
       "      <td>107.964052</td>\n",
       "      <td>2.098164e+07</td>\n",
       "      <td>2014.673203</td>\n",
       "    </tr>\n",
       "    <tr>\n",
       "      <th>Comedy</th>\n",
       "      <td>2013.663212</td>\n",
       "      <td>104.660297</td>\n",
       "      <td>3.378180e+07</td>\n",
       "      <td>2013.829016</td>\n",
       "    </tr>\n",
       "  </tbody>\n",
       "</table>\n",
       "</div>"
      ],
      "text/plain": [
       "            start_year  runtime_minutes  domestic_gross         year\n",
       "genres                                                              \n",
       "Action     2014.024096       115.061444    5.841816e+07  2014.072289\n",
       "Adventure  2014.165919       109.622472    9.440941e+07  2014.278027\n",
       "Animation  2014.197452        94.812903    8.732619e+07  2014.477707\n",
       "Biography  2014.392157       107.964052    2.098164e+07  2014.673203\n",
       "Comedy     2013.663212       104.660297    3.378180e+07  2013.829016"
      ]
     },
     "execution_count": 21,
     "metadata": {},
     "output_type": "execute_result"
    }
   ],
   "source": [
    "genres_dg_fg_mean_df.head()"
   ]
  },
  {
   "cell_type": "markdown",
   "metadata": {
    "ExecuteTime": {
     "end_time": "2022-04-11T23:04:32.519203Z",
     "start_time": "2022-04-11T23:04:32.515819Z"
    }
   },
   "source": [
    "#### Reseting the index for the 'genres' column"
   ]
  },
  {
   "cell_type": "code",
   "execution_count": 22,
   "metadata": {
    "ExecuteTime": {
     "end_time": "2022-04-14T03:19:31.736004Z",
     "start_time": "2022-04-14T03:19:31.726737Z"
    }
   },
   "outputs": [],
   "source": [
    "genres_dg_fg_mean_df.reset_index(inplace=True)"
   ]
  },
  {
   "cell_type": "code",
   "execution_count": 23,
   "metadata": {
    "ExecuteTime": {
     "end_time": "2022-04-14T03:19:31.760760Z",
     "start_time": "2022-04-14T03:19:31.749251Z"
    },
    "scrolled": true
   },
   "outputs": [
    {
     "data": {
      "text/html": [
       "<div>\n",
       "<style scoped>\n",
       "    .dataframe tbody tr th:only-of-type {\n",
       "        vertical-align: middle;\n",
       "    }\n",
       "\n",
       "    .dataframe tbody tr th {\n",
       "        vertical-align: top;\n",
       "    }\n",
       "\n",
       "    .dataframe thead th {\n",
       "        text-align: right;\n",
       "    }\n",
       "</style>\n",
       "<table border=\"1\" class=\"dataframe\">\n",
       "  <thead>\n",
       "    <tr style=\"text-align: right;\">\n",
       "      <th></th>\n",
       "      <th>genres</th>\n",
       "      <th>start_year</th>\n",
       "      <th>runtime_minutes</th>\n",
       "      <th>domestic_gross</th>\n",
       "      <th>year</th>\n",
       "    </tr>\n",
       "  </thead>\n",
       "  <tbody>\n",
       "    <tr>\n",
       "      <th>0</th>\n",
       "      <td>Action</td>\n",
       "      <td>2014.024096</td>\n",
       "      <td>115.061444</td>\n",
       "      <td>5.841816e+07</td>\n",
       "      <td>2014.072289</td>\n",
       "    </tr>\n",
       "    <tr>\n",
       "      <th>1</th>\n",
       "      <td>Adventure</td>\n",
       "      <td>2014.165919</td>\n",
       "      <td>109.622472</td>\n",
       "      <td>9.440941e+07</td>\n",
       "      <td>2014.278027</td>\n",
       "    </tr>\n",
       "    <tr>\n",
       "      <th>2</th>\n",
       "      <td>Animation</td>\n",
       "      <td>2014.197452</td>\n",
       "      <td>94.812903</td>\n",
       "      <td>8.732619e+07</td>\n",
       "      <td>2014.477707</td>\n",
       "    </tr>\n",
       "    <tr>\n",
       "      <th>3</th>\n",
       "      <td>Biography</td>\n",
       "      <td>2014.392157</td>\n",
       "      <td>107.964052</td>\n",
       "      <td>2.098164e+07</td>\n",
       "      <td>2014.673203</td>\n",
       "    </tr>\n",
       "    <tr>\n",
       "      <th>4</th>\n",
       "      <td>Comedy</td>\n",
       "      <td>2013.663212</td>\n",
       "      <td>104.660297</td>\n",
       "      <td>3.378180e+07</td>\n",
       "      <td>2013.829016</td>\n",
       "    </tr>\n",
       "  </tbody>\n",
       "</table>\n",
       "</div>"
      ],
      "text/plain": [
       "      genres   start_year  runtime_minutes  domestic_gross         year\n",
       "0     Action  2014.024096       115.061444    5.841816e+07  2014.072289\n",
       "1  Adventure  2014.165919       109.622472    9.440941e+07  2014.278027\n",
       "2  Animation  2014.197452        94.812903    8.732619e+07  2014.477707\n",
       "3  Biography  2014.392157       107.964052    2.098164e+07  2014.673203\n",
       "4     Comedy  2013.663212       104.660297    3.378180e+07  2013.829016"
      ]
     },
     "execution_count": 23,
     "metadata": {},
     "output_type": "execute_result"
    }
   ],
   "source": [
    "genres_dg_fg_mean_df.head()"
   ]
  },
  {
   "cell_type": "markdown",
   "metadata": {},
   "source": [
    "### Top Grossing Directors Domestically\n",
    "imdb_title_crew and imdb_name_basics data frames and then once again merging the newly created data frame with imdb_title_akas.\n",
    "By merging these data sets we get the top grossing directors domestically"
   ]
  },
  {
   "cell_type": "markdown",
   "metadata": {
    "ExecuteTime": {
     "end_time": "2022-04-11T23:04:34.139301Z",
     "start_time": "2022-04-11T23:04:34.136738Z"
    }
   },
   "source": [
    "#### resetting index for the 'tconst' column"
   ]
  },
  {
   "cell_type": "code",
   "execution_count": 30,
   "metadata": {
    "ExecuteTime": {
     "end_time": "2022-04-14T03:19:33.782575Z",
     "start_time": "2022-04-14T03:19:33.775004Z"
    }
   },
   "outputs": [],
   "source": [
    "imdb_title_crew_df.reset_index(inplace=True)"
   ]
  },
  {
   "cell_type": "code",
   "execution_count": 31,
   "metadata": {
    "ExecuteTime": {
     "end_time": "2022-04-14T03:19:33.797845Z",
     "start_time": "2022-04-14T03:19:33.785341Z"
    },
    "scrolled": true
   },
   "outputs": [
    {
     "data": {
      "text/html": [
       "<div>\n",
       "<style scoped>\n",
       "    .dataframe tbody tr th:only-of-type {\n",
       "        vertical-align: middle;\n",
       "    }\n",
       "\n",
       "    .dataframe tbody tr th {\n",
       "        vertical-align: top;\n",
       "    }\n",
       "\n",
       "    .dataframe thead th {\n",
       "        text-align: right;\n",
       "    }\n",
       "</style>\n",
       "<table border=\"1\" class=\"dataframe\">\n",
       "  <thead>\n",
       "    <tr style=\"text-align: right;\">\n",
       "      <th></th>\n",
       "      <th>tconst</th>\n",
       "      <th>directors</th>\n",
       "      <th>writers</th>\n",
       "    </tr>\n",
       "  </thead>\n",
       "  <tbody>\n",
       "    <tr>\n",
       "      <th>0</th>\n",
       "      <td>tt0285252</td>\n",
       "      <td>nm0899854</td>\n",
       "      <td>nm0899854</td>\n",
       "    </tr>\n",
       "    <tr>\n",
       "      <th>1</th>\n",
       "      <td>tt0438973</td>\n",
       "      <td>NaN</td>\n",
       "      <td>nm0175726,nm1802864</td>\n",
       "    </tr>\n",
       "    <tr>\n",
       "      <th>2</th>\n",
       "      <td>tt0462036</td>\n",
       "      <td>nm1940585</td>\n",
       "      <td>nm1940585</td>\n",
       "    </tr>\n",
       "    <tr>\n",
       "      <th>3</th>\n",
       "      <td>tt0835418</td>\n",
       "      <td>nm0151540</td>\n",
       "      <td>nm0310087,nm0841532</td>\n",
       "    </tr>\n",
       "    <tr>\n",
       "      <th>4</th>\n",
       "      <td>tt0878654</td>\n",
       "      <td>nm0089502,nm2291498,nm2292011</td>\n",
       "      <td>nm0284943</td>\n",
       "    </tr>\n",
       "  </tbody>\n",
       "</table>\n",
       "</div>"
      ],
      "text/plain": [
       "      tconst                      directors              writers\n",
       "0  tt0285252                      nm0899854            nm0899854\n",
       "1  tt0438973                            NaN  nm0175726,nm1802864\n",
       "2  tt0462036                      nm1940585            nm1940585\n",
       "3  tt0835418                      nm0151540  nm0310087,nm0841532\n",
       "4  tt0878654  nm0089502,nm2291498,nm2292011            nm0284943"
      ]
     },
     "execution_count": 31,
     "metadata": {},
     "output_type": "execute_result"
    }
   ],
   "source": [
    "imdb_title_crew_df.head()"
   ]
  },
  {
   "cell_type": "markdown",
   "metadata": {},
   "source": [
    "#### Merging the imdb_title_crew and imdb_name basics data frames"
   ]
  },
  {
   "cell_type": "code",
   "execution_count": 32,
   "metadata": {
    "ExecuteTime": {
     "end_time": "2022-04-14T03:19:34.159727Z",
     "start_time": "2022-04-14T03:19:33.801886Z"
    },
    "scrolled": true
   },
   "outputs": [
    {
     "data": {
      "text/html": [
       "<div>\n",
       "<style scoped>\n",
       "    .dataframe tbody tr th:only-of-type {\n",
       "        vertical-align: middle;\n",
       "    }\n",
       "\n",
       "    .dataframe tbody tr th {\n",
       "        vertical-align: top;\n",
       "    }\n",
       "\n",
       "    .dataframe thead th {\n",
       "        text-align: right;\n",
       "    }\n",
       "</style>\n",
       "<table border=\"1\" class=\"dataframe\">\n",
       "  <thead>\n",
       "    <tr style=\"text-align: right;\">\n",
       "      <th></th>\n",
       "      <th>tconst</th>\n",
       "      <th>directors</th>\n",
       "      <th>writers</th>\n",
       "      <th>primary_name</th>\n",
       "      <th>birth_year</th>\n",
       "      <th>death_year</th>\n",
       "      <th>primary_profession</th>\n",
       "      <th>known_for_titles</th>\n",
       "    </tr>\n",
       "  </thead>\n",
       "  <tbody>\n",
       "    <tr>\n",
       "      <th>0</th>\n",
       "      <td>tt0285252</td>\n",
       "      <td>nm0899854</td>\n",
       "      <td>nm0899854</td>\n",
       "      <td>Tony Vitale</td>\n",
       "      <td>1964.0</td>\n",
       "      <td>NaN</td>\n",
       "      <td>producer,director,writer</td>\n",
       "      <td>tt0285252,tt0106489,tt0119465,tt0359774</td>\n",
       "    </tr>\n",
       "    <tr>\n",
       "      <th>1</th>\n",
       "      <td>tt0462036</td>\n",
       "      <td>nm1940585</td>\n",
       "      <td>nm1940585</td>\n",
       "      <td>Bill Haley</td>\n",
       "      <td>NaN</td>\n",
       "      <td>NaN</td>\n",
       "      <td>director,writer,producer</td>\n",
       "      <td>tt0462036,tt6740510</td>\n",
       "    </tr>\n",
       "    <tr>\n",
       "      <th>2</th>\n",
       "      <td>tt0835418</td>\n",
       "      <td>nm0151540</td>\n",
       "      <td>nm0310087,nm0841532</td>\n",
       "      <td>Jay Chandrasekhar</td>\n",
       "      <td>1968.0</td>\n",
       "      <td>NaN</td>\n",
       "      <td>director,actor,writer</td>\n",
       "      <td>tt0144557,tt0486551,tt0331953,tt0247745</td>\n",
       "    </tr>\n",
       "    <tr>\n",
       "      <th>3</th>\n",
       "      <td>tt0859635</td>\n",
       "      <td>nm0151540</td>\n",
       "      <td>nm0151540,nm0373571,nm0501399,nm0815418,nm0831479</td>\n",
       "      <td>Jay Chandrasekhar</td>\n",
       "      <td>1968.0</td>\n",
       "      <td>NaN</td>\n",
       "      <td>director,actor,writer</td>\n",
       "      <td>tt0144557,tt0486551,tt0331953,tt0247745</td>\n",
       "    </tr>\n",
       "    <tr>\n",
       "      <th>4</th>\n",
       "      <td>tt0879859</td>\n",
       "      <td>nm2416460</td>\n",
       "      <td>NaN</td>\n",
       "      <td>Eric Manchester</td>\n",
       "      <td>NaN</td>\n",
       "      <td>NaN</td>\n",
       "      <td>director,writer</td>\n",
       "      <td>tt0879861,tt0879859</td>\n",
       "    </tr>\n",
       "  </tbody>\n",
       "</table>\n",
       "</div>"
      ],
      "text/plain": [
       "      tconst  directors                                            writers  \\\n",
       "0  tt0285252  nm0899854                                          nm0899854   \n",
       "1  tt0462036  nm1940585                                          nm1940585   \n",
       "2  tt0835418  nm0151540                                nm0310087,nm0841532   \n",
       "3  tt0859635  nm0151540  nm0151540,nm0373571,nm0501399,nm0815418,nm0831479   \n",
       "4  tt0879859  nm2416460                                                NaN   \n",
       "\n",
       "        primary_name  birth_year  death_year        primary_profession  \\\n",
       "0        Tony Vitale      1964.0         NaN  producer,director,writer   \n",
       "1         Bill Haley         NaN         NaN  director,writer,producer   \n",
       "2  Jay Chandrasekhar      1968.0         NaN     director,actor,writer   \n",
       "3  Jay Chandrasekhar      1968.0         NaN     director,actor,writer   \n",
       "4    Eric Manchester         NaN         NaN           director,writer   \n",
       "\n",
       "                          known_for_titles  \n",
       "0  tt0285252,tt0106489,tt0119465,tt0359774  \n",
       "1                      tt0462036,tt6740510  \n",
       "2  tt0144557,tt0486551,tt0331953,tt0247745  \n",
       "3  tt0144557,tt0486551,tt0331953,tt0247745  \n",
       "4                      tt0879861,tt0879859  "
      ]
     },
     "execution_count": 32,
     "metadata": {},
     "output_type": "execute_result"
    }
   ],
   "source": [
    "tc_directors_nb_nconst_df = imdb_title_crew_df.merge(imdb_name_basics_df,\n",
    "                                                    left_on='directors',\n",
    "                                                    right_on='nconst')\n",
    "tc_directors_nb_nconst_df.head()"
   ]
  },
  {
   "cell_type": "markdown",
   "metadata": {},
   "source": [
    "#### Second merge of the newly created data frame (tc_directors_nb_nconst_df) with imdb_title_akas_df"
   ]
  },
  {
   "cell_type": "code",
   "execution_count": 33,
   "metadata": {
    "ExecuteTime": {
     "end_time": "2022-04-14T03:19:34.345039Z",
     "start_time": "2022-04-14T03:19:34.161536Z"
    },
    "scrolled": true
   },
   "outputs": [
    {
     "data": {
      "text/html": [
       "<div>\n",
       "<style scoped>\n",
       "    .dataframe tbody tr th:only-of-type {\n",
       "        vertical-align: middle;\n",
       "    }\n",
       "\n",
       "    .dataframe tbody tr th {\n",
       "        vertical-align: top;\n",
       "    }\n",
       "\n",
       "    .dataframe thead th {\n",
       "        text-align: right;\n",
       "    }\n",
       "</style>\n",
       "<table border=\"1\" class=\"dataframe\">\n",
       "  <thead>\n",
       "    <tr style=\"text-align: right;\">\n",
       "      <th></th>\n",
       "      <th>tconst</th>\n",
       "      <th>directors</th>\n",
       "      <th>writers</th>\n",
       "      <th>primary_name</th>\n",
       "      <th>birth_year</th>\n",
       "      <th>death_year</th>\n",
       "      <th>primary_profession</th>\n",
       "      <th>known_for_titles</th>\n",
       "      <th>ordering</th>\n",
       "      <th>title</th>\n",
       "      <th>region</th>\n",
       "      <th>language</th>\n",
       "      <th>types</th>\n",
       "      <th>attributes</th>\n",
       "      <th>is_original_title</th>\n",
       "    </tr>\n",
       "  </thead>\n",
       "  <tbody>\n",
       "    <tr>\n",
       "      <th>0</th>\n",
       "      <td>tt0285252</td>\n",
       "      <td>nm0899854</td>\n",
       "      <td>nm0899854</td>\n",
       "      <td>Tony Vitale</td>\n",
       "      <td>1964.0</td>\n",
       "      <td>NaN</td>\n",
       "      <td>producer,director,writer</td>\n",
       "      <td>tt0285252,tt0106489,tt0119465,tt0359774</td>\n",
       "      <td>1</td>\n",
       "      <td>Bikini Beach</td>\n",
       "      <td>SE</td>\n",
       "      <td>NaN</td>\n",
       "      <td>imdbDisplay</td>\n",
       "      <td>NaN</td>\n",
       "      <td>0.0</td>\n",
       "    </tr>\n",
       "    <tr>\n",
       "      <th>1</th>\n",
       "      <td>tt0285252</td>\n",
       "      <td>nm0899854</td>\n",
       "      <td>nm0899854</td>\n",
       "      <td>Tony Vitale</td>\n",
       "      <td>1964.0</td>\n",
       "      <td>NaN</td>\n",
       "      <td>producer,director,writer</td>\n",
       "      <td>tt0285252,tt0106489,tt0119465,tt0359774</td>\n",
       "      <td>2</td>\n",
       "      <td>Célibataires et en cavale</td>\n",
       "      <td>FR</td>\n",
       "      <td>NaN</td>\n",
       "      <td>imdbDisplay</td>\n",
       "      <td>NaN</td>\n",
       "      <td>0.0</td>\n",
       "    </tr>\n",
       "    <tr>\n",
       "      <th>2</th>\n",
       "      <td>tt0285252</td>\n",
       "      <td>nm0899854</td>\n",
       "      <td>nm0899854</td>\n",
       "      <td>Tony Vitale</td>\n",
       "      <td>1964.0</td>\n",
       "      <td>NaN</td>\n",
       "      <td>producer,director,writer</td>\n",
       "      <td>tt0285252,tt0106489,tt0119465,tt0359774</td>\n",
       "      <td>3</td>\n",
       "      <td>Jungle Juice</td>\n",
       "      <td>US</td>\n",
       "      <td>NaN</td>\n",
       "      <td>working</td>\n",
       "      <td>NaN</td>\n",
       "      <td>0.0</td>\n",
       "    </tr>\n",
       "    <tr>\n",
       "      <th>3</th>\n",
       "      <td>tt0285252</td>\n",
       "      <td>nm0899854</td>\n",
       "      <td>nm0899854</td>\n",
       "      <td>Tony Vitale</td>\n",
       "      <td>1964.0</td>\n",
       "      <td>NaN</td>\n",
       "      <td>producer,director,writer</td>\n",
       "      <td>tt0285252,tt0106489,tt0119465,tt0359774</td>\n",
       "      <td>4</td>\n",
       "      <td>Untitled Beach Movie</td>\n",
       "      <td>US</td>\n",
       "      <td>NaN</td>\n",
       "      <td>working</td>\n",
       "      <td>NaN</td>\n",
       "      <td>0.0</td>\n",
       "    </tr>\n",
       "    <tr>\n",
       "      <th>4</th>\n",
       "      <td>tt0285252</td>\n",
       "      <td>nm0899854</td>\n",
       "      <td>nm0899854</td>\n",
       "      <td>Tony Vitale</td>\n",
       "      <td>1964.0</td>\n",
       "      <td>NaN</td>\n",
       "      <td>producer,director,writer</td>\n",
       "      <td>tt0285252,tt0106489,tt0119465,tt0359774</td>\n",
       "      <td>5</td>\n",
       "      <td>Life's a Beach</td>\n",
       "      <td>NaN</td>\n",
       "      <td>NaN</td>\n",
       "      <td>original</td>\n",
       "      <td>NaN</td>\n",
       "      <td>1.0</td>\n",
       "    </tr>\n",
       "  </tbody>\n",
       "</table>\n",
       "</div>"
      ],
      "text/plain": [
       "      tconst  directors    writers primary_name  birth_year  death_year  \\\n",
       "0  tt0285252  nm0899854  nm0899854  Tony Vitale      1964.0         NaN   \n",
       "1  tt0285252  nm0899854  nm0899854  Tony Vitale      1964.0         NaN   \n",
       "2  tt0285252  nm0899854  nm0899854  Tony Vitale      1964.0         NaN   \n",
       "3  tt0285252  nm0899854  nm0899854  Tony Vitale      1964.0         NaN   \n",
       "4  tt0285252  nm0899854  nm0899854  Tony Vitale      1964.0         NaN   \n",
       "\n",
       "         primary_profession                         known_for_titles  \\\n",
       "0  producer,director,writer  tt0285252,tt0106489,tt0119465,tt0359774   \n",
       "1  producer,director,writer  tt0285252,tt0106489,tt0119465,tt0359774   \n",
       "2  producer,director,writer  tt0285252,tt0106489,tt0119465,tt0359774   \n",
       "3  producer,director,writer  tt0285252,tt0106489,tt0119465,tt0359774   \n",
       "4  producer,director,writer  tt0285252,tt0106489,tt0119465,tt0359774   \n",
       "\n",
       "   ordering                      title region language        types  \\\n",
       "0         1               Bikini Beach     SE      NaN  imdbDisplay   \n",
       "1         2  Célibataires et en cavale     FR      NaN  imdbDisplay   \n",
       "2         3               Jungle Juice     US      NaN      working   \n",
       "3         4       Untitled Beach Movie     US      NaN      working   \n",
       "4         5             Life's a Beach    NaN      NaN     original   \n",
       "\n",
       "  attributes  is_original_title  \n",
       "0        NaN                0.0  \n",
       "1        NaN                0.0  \n",
       "2        NaN                0.0  \n",
       "3        NaN                0.0  \n",
       "4        NaN                1.0  "
      ]
     },
     "execution_count": 33,
     "metadata": {},
     "output_type": "execute_result"
    }
   ],
   "source": [
    "tc_directors_nb_nconst_takas_tid_df = tc_directors_nb_nconst_df.merge(imdb_title_akas_df,\n",
    "                                                                     left_on='tconst',\n",
    "                                                                     right_on='title_id')\n",
    "tc_directors_nb_nconst_takas_tid_df.head()"
   ]
  },
  {
   "cell_type": "markdown",
   "metadata": {
    "ExecuteTime": {
     "end_time": "2022-04-11T23:04:34.697600Z",
     "start_time": "2022-04-11T23:04:34.695445Z"
    }
   },
   "source": [
    "#### Third merge of newly create data frame and genres_dg_fg_df"
   ]
  },
  {
   "cell_type": "code",
   "execution_count": 34,
   "metadata": {
    "ExecuteTime": {
     "end_time": "2022-04-14T03:19:34.478215Z",
     "start_time": "2022-04-14T03:19:34.347171Z"
    }
   },
   "outputs": [],
   "source": [
    "director_genres = tc_directors_nb_nconst_takas_tid_df.merge(genres_dg_fg_df,\n",
    "                                                                     left_on='title',\n",
    "                                                                     right_on='original_title')\n"
   ]
  },
  {
   "cell_type": "markdown",
   "metadata": {},
   "source": [
    "#### Removing duplicates to cleanup data"
   ]
  },
  {
   "cell_type": "code",
   "execution_count": 35,
   "metadata": {
    "ExecuteTime": {
     "end_time": "2022-04-14T03:19:34.505659Z",
     "start_time": "2022-04-14T03:19:34.480626Z"
    }
   },
   "outputs": [],
   "source": [
    "director_genres_nodup_df = director_genres.drop_duplicates(subset='original_title')"
   ]
  },
  {
   "cell_type": "code",
   "execution_count": 36,
   "metadata": {
    "ExecuteTime": {
     "end_time": "2022-04-14T03:19:34.541027Z",
     "start_time": "2022-04-14T03:19:34.508025Z"
    },
    "scrolled": true
   },
   "outputs": [
    {
     "data": {
      "text/html": [
       "<div>\n",
       "<style scoped>\n",
       "    .dataframe tbody tr th:only-of-type {\n",
       "        vertical-align: middle;\n",
       "    }\n",
       "\n",
       "    .dataframe tbody tr th {\n",
       "        vertical-align: top;\n",
       "    }\n",
       "\n",
       "    .dataframe thead th {\n",
       "        text-align: right;\n",
       "    }\n",
       "</style>\n",
       "<table border=\"1\" class=\"dataframe\">\n",
       "  <thead>\n",
       "    <tr style=\"text-align: right;\">\n",
       "      <th></th>\n",
       "      <th>tconst</th>\n",
       "      <th>directors</th>\n",
       "      <th>writers</th>\n",
       "      <th>primary_name</th>\n",
       "      <th>birth_year</th>\n",
       "      <th>death_year</th>\n",
       "      <th>primary_profession</th>\n",
       "      <th>known_for_titles</th>\n",
       "      <th>ordering</th>\n",
       "      <th>title</th>\n",
       "      <th>...</th>\n",
       "      <th>attributes</th>\n",
       "      <th>is_original_title</th>\n",
       "      <th>original_title</th>\n",
       "      <th>start_year</th>\n",
       "      <th>runtime_minutes</th>\n",
       "      <th>genres</th>\n",
       "      <th>studio</th>\n",
       "      <th>domestic_gross</th>\n",
       "      <th>foreign_gross</th>\n",
       "      <th>year</th>\n",
       "    </tr>\n",
       "  </thead>\n",
       "  <tbody>\n",
       "    <tr>\n",
       "      <th>0</th>\n",
       "      <td>tt0835418</td>\n",
       "      <td>nm0151540</td>\n",
       "      <td>nm0310087,nm0841532</td>\n",
       "      <td>Jay Chandrasekhar</td>\n",
       "      <td>1968.0</td>\n",
       "      <td>NaN</td>\n",
       "      <td>director,actor,writer</td>\n",
       "      <td>tt0144557,tt0486551,tt0331953,tt0247745</td>\n",
       "      <td>14</td>\n",
       "      <td>The Babymakers</td>\n",
       "      <td>...</td>\n",
       "      <td>NaN</td>\n",
       "      <td>0.0</td>\n",
       "      <td>The Babymakers</td>\n",
       "      <td>2012</td>\n",
       "      <td>95.0</td>\n",
       "      <td>Comedy</td>\n",
       "      <td>MNE</td>\n",
       "      <td>7900.0</td>\n",
       "      <td>NaN</td>\n",
       "      <td>2012</td>\n",
       "    </tr>\n",
       "    <tr>\n",
       "      <th>2</th>\n",
       "      <td>tt1904996</td>\n",
       "      <td>nm0000431</td>\n",
       "      <td>nm0572352,nm0922799</td>\n",
       "      <td>Taylor Hackford</td>\n",
       "      <td>1944.0</td>\n",
       "      <td>NaN</td>\n",
       "      <td>producer,director,writer</td>\n",
       "      <td>tt0109642,tt0084434,tt0350258,tt0106469</td>\n",
       "      <td>10</td>\n",
       "      <td>Parker</td>\n",
       "      <td>...</td>\n",
       "      <td>NaN</td>\n",
       "      <td>0.0</td>\n",
       "      <td>Parker</td>\n",
       "      <td>2013</td>\n",
       "      <td>118.0</td>\n",
       "      <td>Action</td>\n",
       "      <td>FD</td>\n",
       "      <td>17600000.0</td>\n",
       "      <td>28600000</td>\n",
       "      <td>2013</td>\n",
       "    </tr>\n",
       "    <tr>\n",
       "      <th>50</th>\n",
       "      <td>tt1126618</td>\n",
       "      <td>nm0585011</td>\n",
       "      <td>nm0112459</td>\n",
       "      <td>Roger Michell</td>\n",
       "      <td>1956.0</td>\n",
       "      <td>NaN</td>\n",
       "      <td>director,producer,actor</td>\n",
       "      <td>tt0125439,tt0127319,tt0489327,tt0375735</td>\n",
       "      <td>21</td>\n",
       "      <td>Morning Glory</td>\n",
       "      <td>...</td>\n",
       "      <td>NaN</td>\n",
       "      <td>1.0</td>\n",
       "      <td>Morning Glory</td>\n",
       "      <td>2010</td>\n",
       "      <td>107.0</td>\n",
       "      <td>Comedy</td>\n",
       "      <td>Par.</td>\n",
       "      <td>31000000.0</td>\n",
       "      <td>29000000</td>\n",
       "      <td>2010</td>\n",
       "    </tr>\n",
       "    <tr>\n",
       "      <th>62</th>\n",
       "      <td>tt2392326</td>\n",
       "      <td>nm0585011</td>\n",
       "      <td>nm0475659</td>\n",
       "      <td>Roger Michell</td>\n",
       "      <td>1956.0</td>\n",
       "      <td>NaN</td>\n",
       "      <td>director,producer,actor</td>\n",
       "      <td>tt0125439,tt0127319,tt0489327,tt0375735</td>\n",
       "      <td>11</td>\n",
       "      <td>Le Week-End</td>\n",
       "      <td>...</td>\n",
       "      <td>NaN</td>\n",
       "      <td>1.0</td>\n",
       "      <td>Le Week-End</td>\n",
       "      <td>2013</td>\n",
       "      <td>93.0</td>\n",
       "      <td>Comedy</td>\n",
       "      <td>MBox</td>\n",
       "      <td>2200000.0</td>\n",
       "      <td>NaN</td>\n",
       "      <td>2014</td>\n",
       "    </tr>\n",
       "    <tr>\n",
       "      <th>74</th>\n",
       "      <td>tt1477855</td>\n",
       "      <td>nm0585011</td>\n",
       "      <td>nm0625695</td>\n",
       "      <td>Roger Michell</td>\n",
       "      <td>1956.0</td>\n",
       "      <td>NaN</td>\n",
       "      <td>director,producer,actor</td>\n",
       "      <td>tt0125439,tt0127319,tt0489327,tt0375735</td>\n",
       "      <td>1</td>\n",
       "      <td>Hyde Park on Hudson</td>\n",
       "      <td>...</td>\n",
       "      <td>NaN</td>\n",
       "      <td>1.0</td>\n",
       "      <td>Hyde Park on Hudson</td>\n",
       "      <td>2012</td>\n",
       "      <td>94.0</td>\n",
       "      <td>Biography</td>\n",
       "      <td>Focus</td>\n",
       "      <td>6400000.0</td>\n",
       "      <td>2500000</td>\n",
       "      <td>2012</td>\n",
       "    </tr>\n",
       "  </tbody>\n",
       "</table>\n",
       "<p>5 rows × 23 columns</p>\n",
       "</div>"
      ],
      "text/plain": [
       "       tconst  directors              writers       primary_name  birth_year  \\\n",
       "0   tt0835418  nm0151540  nm0310087,nm0841532  Jay Chandrasekhar      1968.0   \n",
       "2   tt1904996  nm0000431  nm0572352,nm0922799    Taylor Hackford      1944.0   \n",
       "50  tt1126618  nm0585011            nm0112459      Roger Michell      1956.0   \n",
       "62  tt2392326  nm0585011            nm0475659      Roger Michell      1956.0   \n",
       "74  tt1477855  nm0585011            nm0625695      Roger Michell      1956.0   \n",
       "\n",
       "    death_year        primary_profession  \\\n",
       "0          NaN     director,actor,writer   \n",
       "2          NaN  producer,director,writer   \n",
       "50         NaN   director,producer,actor   \n",
       "62         NaN   director,producer,actor   \n",
       "74         NaN   director,producer,actor   \n",
       "\n",
       "                           known_for_titles  ordering                title  \\\n",
       "0   tt0144557,tt0486551,tt0331953,tt0247745        14       The Babymakers   \n",
       "2   tt0109642,tt0084434,tt0350258,tt0106469        10               Parker   \n",
       "50  tt0125439,tt0127319,tt0489327,tt0375735        21        Morning Glory   \n",
       "62  tt0125439,tt0127319,tt0489327,tt0375735        11          Le Week-End   \n",
       "74  tt0125439,tt0127319,tt0489327,tt0375735         1  Hyde Park on Hudson   \n",
       "\n",
       "    ... attributes is_original_title       original_title start_year  \\\n",
       "0   ...        NaN               0.0       The Babymakers       2012   \n",
       "2   ...        NaN               0.0               Parker       2013   \n",
       "50  ...        NaN               1.0        Morning Glory       2010   \n",
       "62  ...        NaN               1.0          Le Week-End       2013   \n",
       "74  ...        NaN               1.0  Hyde Park on Hudson       2012   \n",
       "\n",
       "    runtime_minutes     genres  studio  domestic_gross foreign_gross  year  \n",
       "0              95.0     Comedy     MNE          7900.0           NaN  2012  \n",
       "2             118.0     Action      FD      17600000.0      28600000  2013  \n",
       "50            107.0     Comedy    Par.      31000000.0      29000000  2010  \n",
       "62             93.0     Comedy    MBox       2200000.0           NaN  2014  \n",
       "74             94.0  Biography   Focus       6400000.0       2500000  2012  \n",
       "\n",
       "[5 rows x 23 columns]"
      ]
     },
     "execution_count": 36,
     "metadata": {},
     "output_type": "execute_result"
    }
   ],
   "source": [
    "director_genres_nodup_df.head()"
   ]
  },
  {
   "cell_type": "markdown",
   "metadata": {
    "ExecuteTime": {
     "end_time": "2022-04-11T23:04:34.876615Z",
     "start_time": "2022-04-11T23:04:34.873873Z"
    }
   },
   "source": [
    "#### Split method is being performed to remove commas from the the 'primary_profession' column "
   ]
  },
  {
   "cell_type": "code",
   "execution_count": 37,
   "metadata": {
    "ExecuteTime": {
     "end_time": "2022-04-14T03:19:34.553852Z",
     "start_time": "2022-04-14T03:19:34.542979Z"
    },
    "scrolled": true
   },
   "outputs": [
    {
     "name": "stderr",
     "output_type": "stream",
     "text": [
      "/Users/joemendoza/opt/anaconda3/envs/learn-env/lib/python3.8/site-packages/pandas/core/generic.py:5168: SettingWithCopyWarning: \n",
      "A value is trying to be set on a copy of a slice from a DataFrame.\n",
      "Try using .loc[row_indexer,col_indexer] = value instead\n",
      "\n",
      "See the caveats in the documentation: https://pandas.pydata.org/pandas-docs/stable/user_guide/indexing.html#returning-a-view-versus-a-copy\n",
      "  self[name] = value\n"
     ]
    }
   ],
   "source": [
    "director_genres_nodup_df.primary_profession = director_genres_nodup_df.primary_profession.str.split(\",\")"
   ]
  },
  {
   "cell_type": "markdown",
   "metadata": {
    "ExecuteTime": {
     "end_time": "2022-04-11T23:04:34.894998Z",
     "start_time": "2022-04-11T23:04:34.892328Z"
    }
   },
   "source": [
    "#### Explode method is being used to give rows the profession titles in 'primary_professions' column"
   ]
  },
  {
   "cell_type": "code",
   "execution_count": 38,
   "metadata": {
    "ExecuteTime": {
     "end_time": "2022-04-14T03:19:34.593838Z",
     "start_time": "2022-04-14T03:19:34.556021Z"
    },
    "scrolled": true
   },
   "outputs": [],
   "source": [
    "director_genres_nodup_explode_df = director_genres_nodup_df.explode('primary_profession')"
   ]
  },
  {
   "cell_type": "code",
   "execution_count": 39,
   "metadata": {
    "ExecuteTime": {
     "end_time": "2022-04-14T03:19:34.629872Z",
     "start_time": "2022-04-14T03:19:34.595796Z"
    },
    "scrolled": false
   },
   "outputs": [
    {
     "data": {
      "text/html": [
       "<div>\n",
       "<style scoped>\n",
       "    .dataframe tbody tr th:only-of-type {\n",
       "        vertical-align: middle;\n",
       "    }\n",
       "\n",
       "    .dataframe tbody tr th {\n",
       "        vertical-align: top;\n",
       "    }\n",
       "\n",
       "    .dataframe thead th {\n",
       "        text-align: right;\n",
       "    }\n",
       "</style>\n",
       "<table border=\"1\" class=\"dataframe\">\n",
       "  <thead>\n",
       "    <tr style=\"text-align: right;\">\n",
       "      <th></th>\n",
       "      <th>tconst</th>\n",
       "      <th>directors</th>\n",
       "      <th>writers</th>\n",
       "      <th>primary_name</th>\n",
       "      <th>birth_year</th>\n",
       "      <th>death_year</th>\n",
       "      <th>primary_profession</th>\n",
       "      <th>known_for_titles</th>\n",
       "      <th>ordering</th>\n",
       "      <th>title</th>\n",
       "      <th>...</th>\n",
       "      <th>attributes</th>\n",
       "      <th>is_original_title</th>\n",
       "      <th>original_title</th>\n",
       "      <th>start_year</th>\n",
       "      <th>runtime_minutes</th>\n",
       "      <th>genres</th>\n",
       "      <th>studio</th>\n",
       "      <th>domestic_gross</th>\n",
       "      <th>foreign_gross</th>\n",
       "      <th>year</th>\n",
       "    </tr>\n",
       "  </thead>\n",
       "  <tbody>\n",
       "    <tr>\n",
       "      <th>0</th>\n",
       "      <td>tt0835418</td>\n",
       "      <td>nm0151540</td>\n",
       "      <td>nm0310087,nm0841532</td>\n",
       "      <td>Jay Chandrasekhar</td>\n",
       "      <td>1968.0</td>\n",
       "      <td>NaN</td>\n",
       "      <td>director</td>\n",
       "      <td>tt0144557,tt0486551,tt0331953,tt0247745</td>\n",
       "      <td>14</td>\n",
       "      <td>The Babymakers</td>\n",
       "      <td>...</td>\n",
       "      <td>NaN</td>\n",
       "      <td>0.0</td>\n",
       "      <td>The Babymakers</td>\n",
       "      <td>2012</td>\n",
       "      <td>95.0</td>\n",
       "      <td>Comedy</td>\n",
       "      <td>MNE</td>\n",
       "      <td>7900.0</td>\n",
       "      <td>NaN</td>\n",
       "      <td>2012</td>\n",
       "    </tr>\n",
       "    <tr>\n",
       "      <th>0</th>\n",
       "      <td>tt0835418</td>\n",
       "      <td>nm0151540</td>\n",
       "      <td>nm0310087,nm0841532</td>\n",
       "      <td>Jay Chandrasekhar</td>\n",
       "      <td>1968.0</td>\n",
       "      <td>NaN</td>\n",
       "      <td>actor</td>\n",
       "      <td>tt0144557,tt0486551,tt0331953,tt0247745</td>\n",
       "      <td>14</td>\n",
       "      <td>The Babymakers</td>\n",
       "      <td>...</td>\n",
       "      <td>NaN</td>\n",
       "      <td>0.0</td>\n",
       "      <td>The Babymakers</td>\n",
       "      <td>2012</td>\n",
       "      <td>95.0</td>\n",
       "      <td>Comedy</td>\n",
       "      <td>MNE</td>\n",
       "      <td>7900.0</td>\n",
       "      <td>NaN</td>\n",
       "      <td>2012</td>\n",
       "    </tr>\n",
       "    <tr>\n",
       "      <th>0</th>\n",
       "      <td>tt0835418</td>\n",
       "      <td>nm0151540</td>\n",
       "      <td>nm0310087,nm0841532</td>\n",
       "      <td>Jay Chandrasekhar</td>\n",
       "      <td>1968.0</td>\n",
       "      <td>NaN</td>\n",
       "      <td>writer</td>\n",
       "      <td>tt0144557,tt0486551,tt0331953,tt0247745</td>\n",
       "      <td>14</td>\n",
       "      <td>The Babymakers</td>\n",
       "      <td>...</td>\n",
       "      <td>NaN</td>\n",
       "      <td>0.0</td>\n",
       "      <td>The Babymakers</td>\n",
       "      <td>2012</td>\n",
       "      <td>95.0</td>\n",
       "      <td>Comedy</td>\n",
       "      <td>MNE</td>\n",
       "      <td>7900.0</td>\n",
       "      <td>NaN</td>\n",
       "      <td>2012</td>\n",
       "    </tr>\n",
       "    <tr>\n",
       "      <th>2</th>\n",
       "      <td>tt1904996</td>\n",
       "      <td>nm0000431</td>\n",
       "      <td>nm0572352,nm0922799</td>\n",
       "      <td>Taylor Hackford</td>\n",
       "      <td>1944.0</td>\n",
       "      <td>NaN</td>\n",
       "      <td>producer</td>\n",
       "      <td>tt0109642,tt0084434,tt0350258,tt0106469</td>\n",
       "      <td>10</td>\n",
       "      <td>Parker</td>\n",
       "      <td>...</td>\n",
       "      <td>NaN</td>\n",
       "      <td>0.0</td>\n",
       "      <td>Parker</td>\n",
       "      <td>2013</td>\n",
       "      <td>118.0</td>\n",
       "      <td>Action</td>\n",
       "      <td>FD</td>\n",
       "      <td>17600000.0</td>\n",
       "      <td>28600000</td>\n",
       "      <td>2013</td>\n",
       "    </tr>\n",
       "    <tr>\n",
       "      <th>2</th>\n",
       "      <td>tt1904996</td>\n",
       "      <td>nm0000431</td>\n",
       "      <td>nm0572352,nm0922799</td>\n",
       "      <td>Taylor Hackford</td>\n",
       "      <td>1944.0</td>\n",
       "      <td>NaN</td>\n",
       "      <td>director</td>\n",
       "      <td>tt0109642,tt0084434,tt0350258,tt0106469</td>\n",
       "      <td>10</td>\n",
       "      <td>Parker</td>\n",
       "      <td>...</td>\n",
       "      <td>NaN</td>\n",
       "      <td>0.0</td>\n",
       "      <td>Parker</td>\n",
       "      <td>2013</td>\n",
       "      <td>118.0</td>\n",
       "      <td>Action</td>\n",
       "      <td>FD</td>\n",
       "      <td>17600000.0</td>\n",
       "      <td>28600000</td>\n",
       "      <td>2013</td>\n",
       "    </tr>\n",
       "  </tbody>\n",
       "</table>\n",
       "<p>5 rows × 23 columns</p>\n",
       "</div>"
      ],
      "text/plain": [
       "      tconst  directors              writers       primary_name  birth_year  \\\n",
       "0  tt0835418  nm0151540  nm0310087,nm0841532  Jay Chandrasekhar      1968.0   \n",
       "0  tt0835418  nm0151540  nm0310087,nm0841532  Jay Chandrasekhar      1968.0   \n",
       "0  tt0835418  nm0151540  nm0310087,nm0841532  Jay Chandrasekhar      1968.0   \n",
       "2  tt1904996  nm0000431  nm0572352,nm0922799    Taylor Hackford      1944.0   \n",
       "2  tt1904996  nm0000431  nm0572352,nm0922799    Taylor Hackford      1944.0   \n",
       "\n",
       "   death_year primary_profession                         known_for_titles  \\\n",
       "0         NaN           director  tt0144557,tt0486551,tt0331953,tt0247745   \n",
       "0         NaN              actor  tt0144557,tt0486551,tt0331953,tt0247745   \n",
       "0         NaN             writer  tt0144557,tt0486551,tt0331953,tt0247745   \n",
       "2         NaN           producer  tt0109642,tt0084434,tt0350258,tt0106469   \n",
       "2         NaN           director  tt0109642,tt0084434,tt0350258,tt0106469   \n",
       "\n",
       "   ordering           title  ... attributes is_original_title  original_title  \\\n",
       "0        14  The Babymakers  ...        NaN               0.0  The Babymakers   \n",
       "0        14  The Babymakers  ...        NaN               0.0  The Babymakers   \n",
       "0        14  The Babymakers  ...        NaN               0.0  The Babymakers   \n",
       "2        10          Parker  ...        NaN               0.0          Parker   \n",
       "2        10          Parker  ...        NaN               0.0          Parker   \n",
       "\n",
       "  start_year  runtime_minutes  genres  studio  domestic_gross foreign_gross  \\\n",
       "0       2012             95.0  Comedy     MNE          7900.0           NaN   \n",
       "0       2012             95.0  Comedy     MNE          7900.0           NaN   \n",
       "0       2012             95.0  Comedy     MNE          7900.0           NaN   \n",
       "2       2013            118.0  Action      FD      17600000.0      28600000   \n",
       "2       2013            118.0  Action      FD      17600000.0      28600000   \n",
       "\n",
       "   year  \n",
       "0  2012  \n",
       "0  2012  \n",
       "0  2012  \n",
       "2  2013  \n",
       "2  2013  \n",
       "\n",
       "[5 rows x 23 columns]"
      ]
     },
     "execution_count": 39,
     "metadata": {},
     "output_type": "execute_result"
    }
   ],
   "source": [
    "director_genres_nodup_explode_df.head()"
   ]
  },
  {
   "cell_type": "markdown",
   "metadata": {
    "ExecuteTime": {
     "end_time": "2022-04-11T23:04:34.977365Z",
     "start_time": "2022-04-11T23:04:34.973978Z"
    }
   },
   "source": [
    "#### Explode method is being used to single out directors in the 'primary_profession' column"
   ]
  },
  {
   "cell_type": "code",
   "execution_count": 40,
   "metadata": {
    "ExecuteTime": {
     "end_time": "2022-04-14T03:19:34.638678Z",
     "start_time": "2022-04-14T03:19:34.632680Z"
    }
   },
   "outputs": [],
   "source": [
    "director_genres_nodup_explode_df = director_genres_nodup_explode_df[director_genres_nodup_explode_df['primary_profession']==\"director\"]"
   ]
  },
  {
   "cell_type": "code",
   "execution_count": 41,
   "metadata": {
    "ExecuteTime": {
     "end_time": "2022-04-14T03:19:34.673851Z",
     "start_time": "2022-04-14T03:19:34.640947Z"
    },
    "scrolled": true
   },
   "outputs": [
    {
     "data": {
      "text/html": [
       "<div>\n",
       "<style scoped>\n",
       "    .dataframe tbody tr th:only-of-type {\n",
       "        vertical-align: middle;\n",
       "    }\n",
       "\n",
       "    .dataframe tbody tr th {\n",
       "        vertical-align: top;\n",
       "    }\n",
       "\n",
       "    .dataframe thead th {\n",
       "        text-align: right;\n",
       "    }\n",
       "</style>\n",
       "<table border=\"1\" class=\"dataframe\">\n",
       "  <thead>\n",
       "    <tr style=\"text-align: right;\">\n",
       "      <th></th>\n",
       "      <th>tconst</th>\n",
       "      <th>directors</th>\n",
       "      <th>writers</th>\n",
       "      <th>primary_name</th>\n",
       "      <th>birth_year</th>\n",
       "      <th>death_year</th>\n",
       "      <th>primary_profession</th>\n",
       "      <th>known_for_titles</th>\n",
       "      <th>ordering</th>\n",
       "      <th>title</th>\n",
       "      <th>...</th>\n",
       "      <th>attributes</th>\n",
       "      <th>is_original_title</th>\n",
       "      <th>original_title</th>\n",
       "      <th>start_year</th>\n",
       "      <th>runtime_minutes</th>\n",
       "      <th>genres</th>\n",
       "      <th>studio</th>\n",
       "      <th>domestic_gross</th>\n",
       "      <th>foreign_gross</th>\n",
       "      <th>year</th>\n",
       "    </tr>\n",
       "  </thead>\n",
       "  <tbody>\n",
       "    <tr>\n",
       "      <th>0</th>\n",
       "      <td>tt0835418</td>\n",
       "      <td>nm0151540</td>\n",
       "      <td>nm0310087,nm0841532</td>\n",
       "      <td>Jay Chandrasekhar</td>\n",
       "      <td>1968.0</td>\n",
       "      <td>NaN</td>\n",
       "      <td>director</td>\n",
       "      <td>tt0144557,tt0486551,tt0331953,tt0247745</td>\n",
       "      <td>14</td>\n",
       "      <td>The Babymakers</td>\n",
       "      <td>...</td>\n",
       "      <td>NaN</td>\n",
       "      <td>0.0</td>\n",
       "      <td>The Babymakers</td>\n",
       "      <td>2012</td>\n",
       "      <td>95.0</td>\n",
       "      <td>Comedy</td>\n",
       "      <td>MNE</td>\n",
       "      <td>7900.0</td>\n",
       "      <td>NaN</td>\n",
       "      <td>2012</td>\n",
       "    </tr>\n",
       "    <tr>\n",
       "      <th>2</th>\n",
       "      <td>tt1904996</td>\n",
       "      <td>nm0000431</td>\n",
       "      <td>nm0572352,nm0922799</td>\n",
       "      <td>Taylor Hackford</td>\n",
       "      <td>1944.0</td>\n",
       "      <td>NaN</td>\n",
       "      <td>director</td>\n",
       "      <td>tt0109642,tt0084434,tt0350258,tt0106469</td>\n",
       "      <td>10</td>\n",
       "      <td>Parker</td>\n",
       "      <td>...</td>\n",
       "      <td>NaN</td>\n",
       "      <td>0.0</td>\n",
       "      <td>Parker</td>\n",
       "      <td>2013</td>\n",
       "      <td>118.0</td>\n",
       "      <td>Action</td>\n",
       "      <td>FD</td>\n",
       "      <td>17600000.0</td>\n",
       "      <td>28600000</td>\n",
       "      <td>2013</td>\n",
       "    </tr>\n",
       "    <tr>\n",
       "      <th>50</th>\n",
       "      <td>tt1126618</td>\n",
       "      <td>nm0585011</td>\n",
       "      <td>nm0112459</td>\n",
       "      <td>Roger Michell</td>\n",
       "      <td>1956.0</td>\n",
       "      <td>NaN</td>\n",
       "      <td>director</td>\n",
       "      <td>tt0125439,tt0127319,tt0489327,tt0375735</td>\n",
       "      <td>21</td>\n",
       "      <td>Morning Glory</td>\n",
       "      <td>...</td>\n",
       "      <td>NaN</td>\n",
       "      <td>1.0</td>\n",
       "      <td>Morning Glory</td>\n",
       "      <td>2010</td>\n",
       "      <td>107.0</td>\n",
       "      <td>Comedy</td>\n",
       "      <td>Par.</td>\n",
       "      <td>31000000.0</td>\n",
       "      <td>29000000</td>\n",
       "      <td>2010</td>\n",
       "    </tr>\n",
       "    <tr>\n",
       "      <th>62</th>\n",
       "      <td>tt2392326</td>\n",
       "      <td>nm0585011</td>\n",
       "      <td>nm0475659</td>\n",
       "      <td>Roger Michell</td>\n",
       "      <td>1956.0</td>\n",
       "      <td>NaN</td>\n",
       "      <td>director</td>\n",
       "      <td>tt0125439,tt0127319,tt0489327,tt0375735</td>\n",
       "      <td>11</td>\n",
       "      <td>Le Week-End</td>\n",
       "      <td>...</td>\n",
       "      <td>NaN</td>\n",
       "      <td>1.0</td>\n",
       "      <td>Le Week-End</td>\n",
       "      <td>2013</td>\n",
       "      <td>93.0</td>\n",
       "      <td>Comedy</td>\n",
       "      <td>MBox</td>\n",
       "      <td>2200000.0</td>\n",
       "      <td>NaN</td>\n",
       "      <td>2014</td>\n",
       "    </tr>\n",
       "    <tr>\n",
       "      <th>74</th>\n",
       "      <td>tt1477855</td>\n",
       "      <td>nm0585011</td>\n",
       "      <td>nm0625695</td>\n",
       "      <td>Roger Michell</td>\n",
       "      <td>1956.0</td>\n",
       "      <td>NaN</td>\n",
       "      <td>director</td>\n",
       "      <td>tt0125439,tt0127319,tt0489327,tt0375735</td>\n",
       "      <td>1</td>\n",
       "      <td>Hyde Park on Hudson</td>\n",
       "      <td>...</td>\n",
       "      <td>NaN</td>\n",
       "      <td>1.0</td>\n",
       "      <td>Hyde Park on Hudson</td>\n",
       "      <td>2012</td>\n",
       "      <td>94.0</td>\n",
       "      <td>Biography</td>\n",
       "      <td>Focus</td>\n",
       "      <td>6400000.0</td>\n",
       "      <td>2500000</td>\n",
       "      <td>2012</td>\n",
       "    </tr>\n",
       "  </tbody>\n",
       "</table>\n",
       "<p>5 rows × 23 columns</p>\n",
       "</div>"
      ],
      "text/plain": [
       "       tconst  directors              writers       primary_name  birth_year  \\\n",
       "0   tt0835418  nm0151540  nm0310087,nm0841532  Jay Chandrasekhar      1968.0   \n",
       "2   tt1904996  nm0000431  nm0572352,nm0922799    Taylor Hackford      1944.0   \n",
       "50  tt1126618  nm0585011            nm0112459      Roger Michell      1956.0   \n",
       "62  tt2392326  nm0585011            nm0475659      Roger Michell      1956.0   \n",
       "74  tt1477855  nm0585011            nm0625695      Roger Michell      1956.0   \n",
       "\n",
       "    death_year primary_profession                         known_for_titles  \\\n",
       "0          NaN           director  tt0144557,tt0486551,tt0331953,tt0247745   \n",
       "2          NaN           director  tt0109642,tt0084434,tt0350258,tt0106469   \n",
       "50         NaN           director  tt0125439,tt0127319,tt0489327,tt0375735   \n",
       "62         NaN           director  tt0125439,tt0127319,tt0489327,tt0375735   \n",
       "74         NaN           director  tt0125439,tt0127319,tt0489327,tt0375735   \n",
       "\n",
       "    ordering                title  ... attributes is_original_title  \\\n",
       "0         14       The Babymakers  ...        NaN               0.0   \n",
       "2         10               Parker  ...        NaN               0.0   \n",
       "50        21        Morning Glory  ...        NaN               1.0   \n",
       "62        11          Le Week-End  ...        NaN               1.0   \n",
       "74         1  Hyde Park on Hudson  ...        NaN               1.0   \n",
       "\n",
       "         original_title start_year  runtime_minutes     genres  studio  \\\n",
       "0        The Babymakers       2012             95.0     Comedy     MNE   \n",
       "2                Parker       2013            118.0     Action      FD   \n",
       "50        Morning Glory       2010            107.0     Comedy    Par.   \n",
       "62          Le Week-End       2013             93.0     Comedy    MBox   \n",
       "74  Hyde Park on Hudson       2012             94.0  Biography   Focus   \n",
       "\n",
       "    domestic_gross foreign_gross  year  \n",
       "0           7900.0           NaN  2012  \n",
       "2       17600000.0      28600000  2013  \n",
       "50      31000000.0      29000000  2010  \n",
       "62       2200000.0           NaN  2014  \n",
       "74       6400000.0       2500000  2012  \n",
       "\n",
       "[5 rows x 23 columns]"
      ]
     },
     "execution_count": 41,
     "metadata": {},
     "output_type": "execute_result"
    }
   ],
   "source": [
    "director_genres_nodup_explode_df.head()"
   ]
  },
  {
   "cell_type": "markdown",
   "metadata": {
    "ExecuteTime": {
     "end_time": "2022-04-11T23:04:35.025674Z",
     "start_time": "2022-04-11T23:04:35.023595Z"
    }
   },
   "source": [
    "Groupby method being used attain the mean if the 'primary_name' column"
   ]
  },
  {
   "cell_type": "code",
   "execution_count": 42,
   "metadata": {
    "ExecuteTime": {
     "end_time": "2022-04-14T03:19:34.685285Z",
     "start_time": "2022-04-14T03:19:34.675843Z"
    }
   },
   "outputs": [],
   "source": [
    "director_genres_nodup_mean_df = director_genres_nodup_explode_df.groupby('primary_name').mean()"
   ]
  },
  {
   "cell_type": "code",
   "execution_count": 43,
   "metadata": {
    "ExecuteTime": {
     "end_time": "2022-04-14T03:19:34.701144Z",
     "start_time": "2022-04-14T03:19:34.687458Z"
    },
    "scrolled": false
   },
   "outputs": [
    {
     "data": {
      "text/html": [
       "<div>\n",
       "<style scoped>\n",
       "    .dataframe tbody tr th:only-of-type {\n",
       "        vertical-align: middle;\n",
       "    }\n",
       "\n",
       "    .dataframe tbody tr th {\n",
       "        vertical-align: top;\n",
       "    }\n",
       "\n",
       "    .dataframe thead th {\n",
       "        text-align: right;\n",
       "    }\n",
       "</style>\n",
       "<table border=\"1\" class=\"dataframe\">\n",
       "  <thead>\n",
       "    <tr style=\"text-align: right;\">\n",
       "      <th></th>\n",
       "      <th>birth_year</th>\n",
       "      <th>death_year</th>\n",
       "      <th>ordering</th>\n",
       "      <th>is_original_title</th>\n",
       "      <th>start_year</th>\n",
       "      <th>runtime_minutes</th>\n",
       "      <th>domestic_gross</th>\n",
       "      <th>year</th>\n",
       "    </tr>\n",
       "    <tr>\n",
       "      <th>primary_name</th>\n",
       "      <th></th>\n",
       "      <th></th>\n",
       "      <th></th>\n",
       "      <th></th>\n",
       "      <th></th>\n",
       "      <th></th>\n",
       "      <th></th>\n",
       "      <th></th>\n",
       "    </tr>\n",
       "  </thead>\n",
       "  <tbody>\n",
       "    <tr>\n",
       "      <th>Aanand L. Rai</th>\n",
       "      <td>NaN</td>\n",
       "      <td>NaN</td>\n",
       "      <td>2.0</td>\n",
       "      <td>0.0</td>\n",
       "      <td>2015.0</td>\n",
       "      <td>128.0</td>\n",
       "      <td>3000000.0</td>\n",
       "      <td>2015.0</td>\n",
       "    </tr>\n",
       "    <tr>\n",
       "      <th>Aaron Katz</th>\n",
       "      <td>1981.0</td>\n",
       "      <td>NaN</td>\n",
       "      <td>2.0</td>\n",
       "      <td>1.0</td>\n",
       "      <td>2010.0</td>\n",
       "      <td>96.0</td>\n",
       "      <td>141000.0</td>\n",
       "      <td>2011.0</td>\n",
       "    </tr>\n",
       "    <tr>\n",
       "      <th>Aaron Wilson</th>\n",
       "      <td>NaN</td>\n",
       "      <td>NaN</td>\n",
       "      <td>3.0</td>\n",
       "      <td>1.0</td>\n",
       "      <td>2013.0</td>\n",
       "      <td>84.0</td>\n",
       "      <td>8500.0</td>\n",
       "      <td>2014.0</td>\n",
       "    </tr>\n",
       "    <tr>\n",
       "      <th>Abbas Kiarostami</th>\n",
       "      <td>1940.0</td>\n",
       "      <td>2016.0</td>\n",
       "      <td>16.0</td>\n",
       "      <td>0.0</td>\n",
       "      <td>2010.0</td>\n",
       "      <td>106.0</td>\n",
       "      <td>1400000.0</td>\n",
       "      <td>2011.0</td>\n",
       "    </tr>\n",
       "    <tr>\n",
       "      <th>Abdellatif Kechiche</th>\n",
       "      <td>1960.0</td>\n",
       "      <td>NaN</td>\n",
       "      <td>13.0</td>\n",
       "      <td>0.0</td>\n",
       "      <td>2013.0</td>\n",
       "      <td>180.0</td>\n",
       "      <td>2200000.0</td>\n",
       "      <td>2013.0</td>\n",
       "    </tr>\n",
       "  </tbody>\n",
       "</table>\n",
       "</div>"
      ],
      "text/plain": [
       "                     birth_year  death_year  ordering  is_original_title  \\\n",
       "primary_name                                                               \n",
       "Aanand L. Rai               NaN         NaN       2.0                0.0   \n",
       "Aaron Katz               1981.0         NaN       2.0                1.0   \n",
       "Aaron Wilson                NaN         NaN       3.0                1.0   \n",
       "Abbas Kiarostami         1940.0      2016.0      16.0                0.0   \n",
       "Abdellatif Kechiche      1960.0         NaN      13.0                0.0   \n",
       "\n",
       "                     start_year  runtime_minutes  domestic_gross    year  \n",
       "primary_name                                                              \n",
       "Aanand L. Rai            2015.0            128.0       3000000.0  2015.0  \n",
       "Aaron Katz               2010.0             96.0        141000.0  2011.0  \n",
       "Aaron Wilson             2013.0             84.0          8500.0  2014.0  \n",
       "Abbas Kiarostami         2010.0            106.0       1400000.0  2011.0  \n",
       "Abdellatif Kechiche      2013.0            180.0       2200000.0  2013.0  "
      ]
     },
     "execution_count": 43,
     "metadata": {},
     "output_type": "execute_result"
    }
   ],
   "source": [
    "director_genres_nodup_mean_df.head()"
   ]
  },
  {
   "cell_type": "markdown",
   "metadata": {
    "ExecuteTime": {
     "end_time": "2022-04-11T23:04:35.056408Z",
     "start_time": "2022-04-11T23:04:35.054425Z"
    }
   },
   "source": [
    "#### Resetting index"
   ]
  },
  {
   "cell_type": "code",
   "execution_count": 44,
   "metadata": {
    "ExecuteTime": {
     "end_time": "2022-04-14T03:19:34.706972Z",
     "start_time": "2022-04-14T03:19:34.703056Z"
    }
   },
   "outputs": [],
   "source": [
    "director_genres_nodup_mean_df.reset_index(inplace=True)"
   ]
  },
  {
   "cell_type": "code",
   "execution_count": 45,
   "metadata": {
    "ExecuteTime": {
     "end_time": "2022-04-14T03:19:34.726123Z",
     "start_time": "2022-04-14T03:19:34.709626Z"
    },
    "scrolled": true
   },
   "outputs": [
    {
     "data": {
      "text/html": [
       "<div>\n",
       "<style scoped>\n",
       "    .dataframe tbody tr th:only-of-type {\n",
       "        vertical-align: middle;\n",
       "    }\n",
       "\n",
       "    .dataframe tbody tr th {\n",
       "        vertical-align: top;\n",
       "    }\n",
       "\n",
       "    .dataframe thead th {\n",
       "        text-align: right;\n",
       "    }\n",
       "</style>\n",
       "<table border=\"1\" class=\"dataframe\">\n",
       "  <thead>\n",
       "    <tr style=\"text-align: right;\">\n",
       "      <th></th>\n",
       "      <th>primary_name</th>\n",
       "      <th>birth_year</th>\n",
       "      <th>death_year</th>\n",
       "      <th>ordering</th>\n",
       "      <th>is_original_title</th>\n",
       "      <th>start_year</th>\n",
       "      <th>runtime_minutes</th>\n",
       "      <th>domestic_gross</th>\n",
       "      <th>year</th>\n",
       "    </tr>\n",
       "  </thead>\n",
       "  <tbody>\n",
       "    <tr>\n",
       "      <th>0</th>\n",
       "      <td>Aanand L. Rai</td>\n",
       "      <td>NaN</td>\n",
       "      <td>NaN</td>\n",
       "      <td>2.0</td>\n",
       "      <td>0.0</td>\n",
       "      <td>2015.0</td>\n",
       "      <td>128.0</td>\n",
       "      <td>3000000.0</td>\n",
       "      <td>2015.0</td>\n",
       "    </tr>\n",
       "    <tr>\n",
       "      <th>1</th>\n",
       "      <td>Aaron Katz</td>\n",
       "      <td>1981.0</td>\n",
       "      <td>NaN</td>\n",
       "      <td>2.0</td>\n",
       "      <td>1.0</td>\n",
       "      <td>2010.0</td>\n",
       "      <td>96.0</td>\n",
       "      <td>141000.0</td>\n",
       "      <td>2011.0</td>\n",
       "    </tr>\n",
       "    <tr>\n",
       "      <th>2</th>\n",
       "      <td>Aaron Wilson</td>\n",
       "      <td>NaN</td>\n",
       "      <td>NaN</td>\n",
       "      <td>3.0</td>\n",
       "      <td>1.0</td>\n",
       "      <td>2013.0</td>\n",
       "      <td>84.0</td>\n",
       "      <td>8500.0</td>\n",
       "      <td>2014.0</td>\n",
       "    </tr>\n",
       "    <tr>\n",
       "      <th>3</th>\n",
       "      <td>Abbas Kiarostami</td>\n",
       "      <td>1940.0</td>\n",
       "      <td>2016.0</td>\n",
       "      <td>16.0</td>\n",
       "      <td>0.0</td>\n",
       "      <td>2010.0</td>\n",
       "      <td>106.0</td>\n",
       "      <td>1400000.0</td>\n",
       "      <td>2011.0</td>\n",
       "    </tr>\n",
       "    <tr>\n",
       "      <th>4</th>\n",
       "      <td>Abdellatif Kechiche</td>\n",
       "      <td>1960.0</td>\n",
       "      <td>NaN</td>\n",
       "      <td>13.0</td>\n",
       "      <td>0.0</td>\n",
       "      <td>2013.0</td>\n",
       "      <td>180.0</td>\n",
       "      <td>2200000.0</td>\n",
       "      <td>2013.0</td>\n",
       "    </tr>\n",
       "  </tbody>\n",
       "</table>\n",
       "</div>"
      ],
      "text/plain": [
       "          primary_name  birth_year  death_year  ordering  is_original_title  \\\n",
       "0        Aanand L. Rai         NaN         NaN       2.0                0.0   \n",
       "1           Aaron Katz      1981.0         NaN       2.0                1.0   \n",
       "2         Aaron Wilson         NaN         NaN       3.0                1.0   \n",
       "3     Abbas Kiarostami      1940.0      2016.0      16.0                0.0   \n",
       "4  Abdellatif Kechiche      1960.0         NaN      13.0                0.0   \n",
       "\n",
       "   start_year  runtime_minutes  domestic_gross    year  \n",
       "0      2015.0            128.0       3000000.0  2015.0  \n",
       "1      2010.0             96.0        141000.0  2011.0  \n",
       "2      2013.0             84.0          8500.0  2014.0  \n",
       "3      2010.0            106.0       1400000.0  2011.0  \n",
       "4      2013.0            180.0       2200000.0  2013.0  "
      ]
     },
     "execution_count": 45,
     "metadata": {},
     "output_type": "execute_result"
    }
   ],
   "source": [
    "director_genres_nodup_mean_df.head()"
   ]
  },
  {
   "cell_type": "markdown",
   "metadata": {
    "ExecuteTime": {
     "end_time": "2022-04-12T01:01:42.296578Z",
     "start_time": "2022-04-12T01:01:42.291772Z"
    }
   },
   "source": [
    "#### Sorting values of the mean of the 'domestic_gross' in descending order"
   ]
  },
  {
   "cell_type": "code",
   "execution_count": 46,
   "metadata": {
    "ExecuteTime": {
     "end_time": "2022-04-14T03:19:34.732838Z",
     "start_time": "2022-04-14T03:19:34.728324Z"
    }
   },
   "outputs": [],
   "source": [
    "director_genres_nodup_mean_df.sort_values(by='domestic_gross', ascending=False, inplace=True)"
   ]
  },
  {
   "cell_type": "code",
   "execution_count": 47,
   "metadata": {
    "ExecuteTime": {
     "end_time": "2022-04-14T03:19:34.750822Z",
     "start_time": "2022-04-14T03:19:34.735208Z"
    },
    "scrolled": false
   },
   "outputs": [
    {
     "data": {
      "text/html": [
       "<div>\n",
       "<style scoped>\n",
       "    .dataframe tbody tr th:only-of-type {\n",
       "        vertical-align: middle;\n",
       "    }\n",
       "\n",
       "    .dataframe tbody tr th {\n",
       "        vertical-align: top;\n",
       "    }\n",
       "\n",
       "    .dataframe thead th {\n",
       "        text-align: right;\n",
       "    }\n",
       "</style>\n",
       "<table border=\"1\" class=\"dataframe\">\n",
       "  <thead>\n",
       "    <tr style=\"text-align: right;\">\n",
       "      <th></th>\n",
       "      <th>primary_name</th>\n",
       "      <th>birth_year</th>\n",
       "      <th>death_year</th>\n",
       "      <th>ordering</th>\n",
       "      <th>is_original_title</th>\n",
       "      <th>start_year</th>\n",
       "      <th>runtime_minutes</th>\n",
       "      <th>domestic_gross</th>\n",
       "      <th>year</th>\n",
       "    </tr>\n",
       "  </thead>\n",
       "  <tbody>\n",
       "    <tr>\n",
       "      <th>802</th>\n",
       "      <td>Joss Whedon</td>\n",
       "      <td>1964.0</td>\n",
       "      <td>NaN</td>\n",
       "      <td>15.0</td>\n",
       "      <td>0.0</td>\n",
       "      <td>2015.0</td>\n",
       "      <td>141.0</td>\n",
       "      <td>459000000.0</td>\n",
       "      <td>2015.0</td>\n",
       "    </tr>\n",
       "    <tr>\n",
       "      <th>1167</th>\n",
       "      <td>Patty Jenkins</td>\n",
       "      <td>1971.0</td>\n",
       "      <td>NaN</td>\n",
       "      <td>11.0</td>\n",
       "      <td>0.0</td>\n",
       "      <td>2017.0</td>\n",
       "      <td>141.0</td>\n",
       "      <td>412600000.0</td>\n",
       "      <td>2017.0</td>\n",
       "    </tr>\n",
       "    <tr>\n",
       "      <th>253</th>\n",
       "      <td>Chi-kin Kwok</td>\n",
       "      <td>NaN</td>\n",
       "      <td>NaN</td>\n",
       "      <td>3.0</td>\n",
       "      <td>1.0</td>\n",
       "      <td>2010.0</td>\n",
       "      <td>92.0</td>\n",
       "      <td>400700000.0</td>\n",
       "      <td>2013.0</td>\n",
       "    </tr>\n",
       "    <tr>\n",
       "      <th>10</th>\n",
       "      <td>Adam Green</td>\n",
       "      <td>1975.0</td>\n",
       "      <td>NaN</td>\n",
       "      <td>10.0</td>\n",
       "      <td>0.0</td>\n",
       "      <td>2010.0</td>\n",
       "      <td>93.0</td>\n",
       "      <td>400700000.0</td>\n",
       "      <td>2013.0</td>\n",
       "    </tr>\n",
       "    <tr>\n",
       "      <th>1543</th>\n",
       "      <td>Tim Miller</td>\n",
       "      <td>NaN</td>\n",
       "      <td>NaN</td>\n",
       "      <td>10.0</td>\n",
       "      <td>1.0</td>\n",
       "      <td>2016.0</td>\n",
       "      <td>108.0</td>\n",
       "      <td>363100000.0</td>\n",
       "      <td>2016.0</td>\n",
       "    </tr>\n",
       "  </tbody>\n",
       "</table>\n",
       "</div>"
      ],
      "text/plain": [
       "       primary_name  birth_year  death_year  ordering  is_original_title  \\\n",
       "802     Joss Whedon      1964.0         NaN      15.0                0.0   \n",
       "1167  Patty Jenkins      1971.0         NaN      11.0                0.0   \n",
       "253    Chi-kin Kwok         NaN         NaN       3.0                1.0   \n",
       "10       Adam Green      1975.0         NaN      10.0                0.0   \n",
       "1543     Tim Miller         NaN         NaN      10.0                1.0   \n",
       "\n",
       "      start_year  runtime_minutes  domestic_gross    year  \n",
       "802       2015.0            141.0     459000000.0  2015.0  \n",
       "1167      2017.0            141.0     412600000.0  2017.0  \n",
       "253       2010.0             92.0     400700000.0  2013.0  \n",
       "10        2010.0             93.0     400700000.0  2013.0  \n",
       "1543      2016.0            108.0     363100000.0  2016.0  "
      ]
     },
     "execution_count": 47,
     "metadata": {},
     "output_type": "execute_result"
    }
   ],
   "source": [
    "director_genres_nodup_mean_df.head()"
   ]
  },
  {
   "cell_type": "markdown",
   "metadata": {},
   "source": [
    "###  Domestic Gross by Release Month"
   ]
  },
  {
   "cell_type": "code",
   "execution_count": 49,
   "metadata": {
    "ExecuteTime": {
     "end_time": "2022-04-14T03:19:34.964561Z",
     "start_time": "2022-04-14T03:19:34.951850Z"
    }
   },
   "outputs": [
    {
     "data": {
      "text/html": [
       "<div>\n",
       "<style scoped>\n",
       "    .dataframe tbody tr th:only-of-type {\n",
       "        vertical-align: middle;\n",
       "    }\n",
       "\n",
       "    .dataframe tbody tr th {\n",
       "        vertical-align: top;\n",
       "    }\n",
       "\n",
       "    .dataframe thead th {\n",
       "        text-align: right;\n",
       "    }\n",
       "</style>\n",
       "<table border=\"1\" class=\"dataframe\">\n",
       "  <thead>\n",
       "    <tr style=\"text-align: right;\">\n",
       "      <th></th>\n",
       "      <th>release_date</th>\n",
       "      <th>movie</th>\n",
       "      <th>production_budget</th>\n",
       "      <th>domestic_gross</th>\n",
       "      <th>worldwide_gross</th>\n",
       "    </tr>\n",
       "    <tr>\n",
       "      <th>id</th>\n",
       "      <th></th>\n",
       "      <th></th>\n",
       "      <th></th>\n",
       "      <th></th>\n",
       "      <th></th>\n",
       "    </tr>\n",
       "  </thead>\n",
       "  <tbody>\n",
       "    <tr>\n",
       "      <th>1</th>\n",
       "      <td>Dec 18, 2009</td>\n",
       "      <td>Avatar</td>\n",
       "      <td>$425,000,000</td>\n",
       "      <td>$760,507,625</td>\n",
       "      <td>$2,776,345,279</td>\n",
       "    </tr>\n",
       "    <tr>\n",
       "      <th>2</th>\n",
       "      <td>May 20, 2011</td>\n",
       "      <td>Pirates of the Caribbean: On Stranger Tides</td>\n",
       "      <td>$410,600,000</td>\n",
       "      <td>$241,063,875</td>\n",
       "      <td>$1,045,663,875</td>\n",
       "    </tr>\n",
       "    <tr>\n",
       "      <th>3</th>\n",
       "      <td>Jun 7, 2019</td>\n",
       "      <td>Dark Phoenix</td>\n",
       "      <td>$350,000,000</td>\n",
       "      <td>$42,762,350</td>\n",
       "      <td>$149,762,350</td>\n",
       "    </tr>\n",
       "    <tr>\n",
       "      <th>4</th>\n",
       "      <td>May 1, 2015</td>\n",
       "      <td>Avengers: Age of Ultron</td>\n",
       "      <td>$330,600,000</td>\n",
       "      <td>$459,005,868</td>\n",
       "      <td>$1,403,013,963</td>\n",
       "    </tr>\n",
       "    <tr>\n",
       "      <th>5</th>\n",
       "      <td>Dec 15, 2017</td>\n",
       "      <td>Star Wars Ep. VIII: The Last Jedi</td>\n",
       "      <td>$317,000,000</td>\n",
       "      <td>$620,181,382</td>\n",
       "      <td>$1,316,721,747</td>\n",
       "    </tr>\n",
       "  </tbody>\n",
       "</table>\n",
       "</div>"
      ],
      "text/plain": [
       "    release_date                                        movie  \\\n",
       "id                                                              \n",
       "1   Dec 18, 2009                                       Avatar   \n",
       "2   May 20, 2011  Pirates of the Caribbean: On Stranger Tides   \n",
       "3    Jun 7, 2019                                 Dark Phoenix   \n",
       "4    May 1, 2015                      Avengers: Age of Ultron   \n",
       "5   Dec 15, 2017            Star Wars Ep. VIII: The Last Jedi   \n",
       "\n",
       "   production_budget domestic_gross worldwide_gross  \n",
       "id                                                   \n",
       "1       $425,000,000   $760,507,625  $2,776,345,279  \n",
       "2       $410,600,000   $241,063,875  $1,045,663,875  \n",
       "3       $350,000,000    $42,762,350    $149,762,350  \n",
       "4       $330,600,000   $459,005,868  $1,403,013,963  \n",
       "5       $317,000,000   $620,181,382  $1,316,721,747  "
      ]
     },
     "execution_count": 49,
     "metadata": {},
     "output_type": "execute_result"
    }
   ],
   "source": [
    "tn_movie_budgets_df.head()"
   ]
  },
  {
   "cell_type": "markdown",
   "metadata": {
    "ExecuteTime": {
     "end_time": "2022-04-11T23:04:35.413105Z",
     "start_time": "2022-04-11T23:04:35.410358Z"
    }
   },
   "source": [
    "#### Setting up data frame  emphasizing 'release_month' and 'release_date'"
   ]
  },
  {
   "cell_type": "code",
   "execution_count": 50,
   "metadata": {
    "ExecuteTime": {
     "end_time": "2022-04-14T03:19:35.698837Z",
     "start_time": "2022-04-14T03:19:34.966994Z"
    }
   },
   "outputs": [],
   "source": [
    "tn_movie_budgets_df.release_date = pd.to_datetime(tn_movie_budgets_df.release_date)"
   ]
  },
  {
   "cell_type": "code",
   "execution_count": 51,
   "metadata": {
    "ExecuteTime": {
     "end_time": "2022-04-14T03:19:35.707382Z",
     "start_time": "2022-04-14T03:19:35.701194Z"
    }
   },
   "outputs": [],
   "source": [
    "tn_movie_budgets_df['release_month'] = tn_movie_budgets_df.release_date.dt.month_name()"
   ]
  },
  {
   "cell_type": "code",
   "execution_count": 52,
   "metadata": {
    "ExecuteTime": {
     "end_time": "2022-04-14T03:19:35.723284Z",
     "start_time": "2022-04-14T03:19:35.710045Z"
    },
    "scrolled": true
   },
   "outputs": [
    {
     "data": {
      "text/html": [
       "<div>\n",
       "<style scoped>\n",
       "    .dataframe tbody tr th:only-of-type {\n",
       "        vertical-align: middle;\n",
       "    }\n",
       "\n",
       "    .dataframe tbody tr th {\n",
       "        vertical-align: top;\n",
       "    }\n",
       "\n",
       "    .dataframe thead th {\n",
       "        text-align: right;\n",
       "    }\n",
       "</style>\n",
       "<table border=\"1\" class=\"dataframe\">\n",
       "  <thead>\n",
       "    <tr style=\"text-align: right;\">\n",
       "      <th></th>\n",
       "      <th>release_date</th>\n",
       "      <th>movie</th>\n",
       "      <th>production_budget</th>\n",
       "      <th>domestic_gross</th>\n",
       "      <th>worldwide_gross</th>\n",
       "      <th>release_month</th>\n",
       "    </tr>\n",
       "    <tr>\n",
       "      <th>id</th>\n",
       "      <th></th>\n",
       "      <th></th>\n",
       "      <th></th>\n",
       "      <th></th>\n",
       "      <th></th>\n",
       "      <th></th>\n",
       "    </tr>\n",
       "  </thead>\n",
       "  <tbody>\n",
       "    <tr>\n",
       "      <th>1</th>\n",
       "      <td>2009-12-18</td>\n",
       "      <td>Avatar</td>\n",
       "      <td>$425,000,000</td>\n",
       "      <td>$760,507,625</td>\n",
       "      <td>$2,776,345,279</td>\n",
       "      <td>December</td>\n",
       "    </tr>\n",
       "    <tr>\n",
       "      <th>2</th>\n",
       "      <td>2011-05-20</td>\n",
       "      <td>Pirates of the Caribbean: On Stranger Tides</td>\n",
       "      <td>$410,600,000</td>\n",
       "      <td>$241,063,875</td>\n",
       "      <td>$1,045,663,875</td>\n",
       "      <td>May</td>\n",
       "    </tr>\n",
       "    <tr>\n",
       "      <th>3</th>\n",
       "      <td>2019-06-07</td>\n",
       "      <td>Dark Phoenix</td>\n",
       "      <td>$350,000,000</td>\n",
       "      <td>$42,762,350</td>\n",
       "      <td>$149,762,350</td>\n",
       "      <td>June</td>\n",
       "    </tr>\n",
       "    <tr>\n",
       "      <th>4</th>\n",
       "      <td>2015-05-01</td>\n",
       "      <td>Avengers: Age of Ultron</td>\n",
       "      <td>$330,600,000</td>\n",
       "      <td>$459,005,868</td>\n",
       "      <td>$1,403,013,963</td>\n",
       "      <td>May</td>\n",
       "    </tr>\n",
       "    <tr>\n",
       "      <th>5</th>\n",
       "      <td>2017-12-15</td>\n",
       "      <td>Star Wars Ep. VIII: The Last Jedi</td>\n",
       "      <td>$317,000,000</td>\n",
       "      <td>$620,181,382</td>\n",
       "      <td>$1,316,721,747</td>\n",
       "      <td>December</td>\n",
       "    </tr>\n",
       "  </tbody>\n",
       "</table>\n",
       "</div>"
      ],
      "text/plain": [
       "   release_date                                        movie  \\\n",
       "id                                                             \n",
       "1    2009-12-18                                       Avatar   \n",
       "2    2011-05-20  Pirates of the Caribbean: On Stranger Tides   \n",
       "3    2019-06-07                                 Dark Phoenix   \n",
       "4    2015-05-01                      Avengers: Age of Ultron   \n",
       "5    2017-12-15            Star Wars Ep. VIII: The Last Jedi   \n",
       "\n",
       "   production_budget domestic_gross worldwide_gross release_month  \n",
       "id                                                                 \n",
       "1       $425,000,000   $760,507,625  $2,776,345,279      December  \n",
       "2       $410,600,000   $241,063,875  $1,045,663,875           May  \n",
       "3       $350,000,000    $42,762,350    $149,762,350          June  \n",
       "4       $330,600,000   $459,005,868  $1,403,013,963           May  \n",
       "5       $317,000,000   $620,181,382  $1,316,721,747      December  "
      ]
     },
     "execution_count": 52,
     "metadata": {},
     "output_type": "execute_result"
    }
   ],
   "source": [
    "tn_movie_budgets_df.head()"
   ]
  },
  {
   "cell_type": "markdown",
   "metadata": {
    "ExecuteTime": {
     "end_time": "2022-04-11T23:04:36.222940Z",
     "start_time": "2022-04-11T23:04:36.220537Z"
    }
   },
   "source": [
    "#### Removing money signs and comas from three columns"
   ]
  },
  {
   "cell_type": "code",
   "execution_count": 53,
   "metadata": {
    "ExecuteTime": {
     "end_time": "2022-04-14T03:19:35.841345Z",
     "start_time": "2022-04-14T03:19:35.725736Z"
    }
   },
   "outputs": [],
   "source": [
    "cols = ['production_budget', 'domestic_gross', 'worldwide_gross']\n",
    "tn_movie_budgets_df[cols] = tn_movie_budgets_df[cols].replace({'\\$':'', ',':''}, regex=True)"
   ]
  },
  {
   "cell_type": "markdown",
   "metadata": {
    "ExecuteTime": {
     "end_time": "2022-04-11T23:04:36.376512Z",
     "start_time": "2022-04-11T23:04:36.373986Z"
    }
   },
   "source": [
    "#### Converting specific columns into integers within three data frames"
   ]
  },
  {
   "cell_type": "code",
   "execution_count": 54,
   "metadata": {
    "ExecuteTime": {
     "end_time": "2022-04-14T03:19:35.847580Z",
     "start_time": "2022-04-14T03:19:35.843349Z"
    }
   },
   "outputs": [],
   "source": [
    "tn_movie_budgets_df['production_budget'] = tn_movie_budgets_df['production_budget'].astype(int)"
   ]
  },
  {
   "cell_type": "code",
   "execution_count": 55,
   "metadata": {
    "ExecuteTime": {
     "end_time": "2022-04-14T03:19:35.853999Z",
     "start_time": "2022-04-14T03:19:35.849681Z"
    }
   },
   "outputs": [],
   "source": [
    "tn_movie_budgets_df['domestic_gross'] = tn_movie_budgets_df['domestic_gross'].astype(int)"
   ]
  },
  {
   "cell_type": "code",
   "execution_count": 56,
   "metadata": {
    "ExecuteTime": {
     "end_time": "2022-04-14T03:19:35.860758Z",
     "start_time": "2022-04-14T03:19:35.855876Z"
    }
   },
   "outputs": [],
   "source": [
    "tn_movie_budgets_df['worldwide_gross'] = tn_movie_budgets_df['worldwide_gross'].astype(int)"
   ]
  },
  {
   "cell_type": "code",
   "execution_count": 57,
   "metadata": {
    "ExecuteTime": {
     "end_time": "2022-04-14T03:19:35.873227Z",
     "start_time": "2022-04-14T03:19:35.862732Z"
    },
    "scrolled": false
   },
   "outputs": [
    {
     "data": {
      "text/html": [
       "<div>\n",
       "<style scoped>\n",
       "    .dataframe tbody tr th:only-of-type {\n",
       "        vertical-align: middle;\n",
       "    }\n",
       "\n",
       "    .dataframe tbody tr th {\n",
       "        vertical-align: top;\n",
       "    }\n",
       "\n",
       "    .dataframe thead th {\n",
       "        text-align: right;\n",
       "    }\n",
       "</style>\n",
       "<table border=\"1\" class=\"dataframe\">\n",
       "  <thead>\n",
       "    <tr style=\"text-align: right;\">\n",
       "      <th></th>\n",
       "      <th>release_date</th>\n",
       "      <th>movie</th>\n",
       "      <th>production_budget</th>\n",
       "      <th>domestic_gross</th>\n",
       "      <th>worldwide_gross</th>\n",
       "      <th>release_month</th>\n",
       "    </tr>\n",
       "    <tr>\n",
       "      <th>id</th>\n",
       "      <th></th>\n",
       "      <th></th>\n",
       "      <th></th>\n",
       "      <th></th>\n",
       "      <th></th>\n",
       "      <th></th>\n",
       "    </tr>\n",
       "  </thead>\n",
       "  <tbody>\n",
       "    <tr>\n",
       "      <th>1</th>\n",
       "      <td>2009-12-18</td>\n",
       "      <td>Avatar</td>\n",
       "      <td>425000000</td>\n",
       "      <td>760507625</td>\n",
       "      <td>2776345279</td>\n",
       "      <td>December</td>\n",
       "    </tr>\n",
       "    <tr>\n",
       "      <th>2</th>\n",
       "      <td>2011-05-20</td>\n",
       "      <td>Pirates of the Caribbean: On Stranger Tides</td>\n",
       "      <td>410600000</td>\n",
       "      <td>241063875</td>\n",
       "      <td>1045663875</td>\n",
       "      <td>May</td>\n",
       "    </tr>\n",
       "    <tr>\n",
       "      <th>3</th>\n",
       "      <td>2019-06-07</td>\n",
       "      <td>Dark Phoenix</td>\n",
       "      <td>350000000</td>\n",
       "      <td>42762350</td>\n",
       "      <td>149762350</td>\n",
       "      <td>June</td>\n",
       "    </tr>\n",
       "    <tr>\n",
       "      <th>4</th>\n",
       "      <td>2015-05-01</td>\n",
       "      <td>Avengers: Age of Ultron</td>\n",
       "      <td>330600000</td>\n",
       "      <td>459005868</td>\n",
       "      <td>1403013963</td>\n",
       "      <td>May</td>\n",
       "    </tr>\n",
       "    <tr>\n",
       "      <th>5</th>\n",
       "      <td>2017-12-15</td>\n",
       "      <td>Star Wars Ep. VIII: The Last Jedi</td>\n",
       "      <td>317000000</td>\n",
       "      <td>620181382</td>\n",
       "      <td>1316721747</td>\n",
       "      <td>December</td>\n",
       "    </tr>\n",
       "  </tbody>\n",
       "</table>\n",
       "</div>"
      ],
      "text/plain": [
       "   release_date                                        movie  \\\n",
       "id                                                             \n",
       "1    2009-12-18                                       Avatar   \n",
       "2    2011-05-20  Pirates of the Caribbean: On Stranger Tides   \n",
       "3    2019-06-07                                 Dark Phoenix   \n",
       "4    2015-05-01                      Avengers: Age of Ultron   \n",
       "5    2017-12-15            Star Wars Ep. VIII: The Last Jedi   \n",
       "\n",
       "    production_budget  domestic_gross  worldwide_gross release_month  \n",
       "id                                                                    \n",
       "1           425000000       760507625       2776345279      December  \n",
       "2           410600000       241063875       1045663875           May  \n",
       "3           350000000        42762350        149762350          June  \n",
       "4           330600000       459005868       1403013963           May  \n",
       "5           317000000       620181382       1316721747      December  "
      ]
     },
     "execution_count": 57,
     "metadata": {},
     "output_type": "execute_result"
    }
   ],
   "source": [
    "tn_movie_budgets_df.head()"
   ]
  },
  {
   "cell_type": "markdown",
   "metadata": {
    "ExecuteTime": {
     "end_time": "2022-04-11T23:04:36.423617Z",
     "start_time": "2022-04-11T23:04:36.420602Z"
    }
   },
   "source": [
    "#### Groupby and mean method used for the 'release_month' column "
   ]
  },
  {
   "cell_type": "code",
   "execution_count": 58,
   "metadata": {
    "ExecuteTime": {
     "end_time": "2022-04-14T03:19:35.882810Z",
     "start_time": "2022-04-14T03:19:35.875613Z"
    }
   },
   "outputs": [],
   "source": [
    "tn_movie_budgets_gbmonth_df = tn_movie_budgets_df.groupby('release_month').mean()"
   ]
  },
  {
   "cell_type": "markdown",
   "metadata": {},
   "source": [
    "#### Sorting Values of 'domestic_gross' column in descending order"
   ]
  },
  {
   "cell_type": "code",
   "execution_count": 59,
   "metadata": {
    "ExecuteTime": {
     "end_time": "2022-04-14T03:19:35.888878Z",
     "start_time": "2022-04-14T03:19:35.885300Z"
    }
   },
   "outputs": [],
   "source": [
    "tn_movie_budgets_gbmonth_df.sort_values(by='domestic_gross', ascending=False, inplace=True)"
   ]
  },
  {
   "cell_type": "markdown",
   "metadata": {},
   "source": [
    "#### Reseting index"
   ]
  },
  {
   "cell_type": "code",
   "execution_count": 60,
   "metadata": {
    "ExecuteTime": {
     "end_time": "2022-04-14T03:19:35.894378Z",
     "start_time": "2022-04-14T03:19:35.890968Z"
    }
   },
   "outputs": [],
   "source": [
    "tn_movie_budgets_gbmonth_df.reset_index(inplace=True)\n"
   ]
  },
  {
   "cell_type": "code",
   "execution_count": 61,
   "metadata": {
    "ExecuteTime": {
     "end_time": "2022-04-14T03:19:35.907276Z",
     "start_time": "2022-04-14T03:19:35.896394Z"
    },
    "scrolled": true
   },
   "outputs": [
    {
     "data": {
      "text/html": [
       "<div>\n",
       "<style scoped>\n",
       "    .dataframe tbody tr th:only-of-type {\n",
       "        vertical-align: middle;\n",
       "    }\n",
       "\n",
       "    .dataframe tbody tr th {\n",
       "        vertical-align: top;\n",
       "    }\n",
       "\n",
       "    .dataframe thead th {\n",
       "        text-align: right;\n",
       "    }\n",
       "</style>\n",
       "<table border=\"1\" class=\"dataframe\">\n",
       "  <thead>\n",
       "    <tr style=\"text-align: right;\">\n",
       "      <th></th>\n",
       "      <th>release_month</th>\n",
       "      <th>production_budget</th>\n",
       "      <th>domestic_gross</th>\n",
       "      <th>worldwide_gross</th>\n",
       "    </tr>\n",
       "  </thead>\n",
       "  <tbody>\n",
       "    <tr>\n",
       "      <th>0</th>\n",
       "      <td>May</td>\n",
       "      <td>4.713520e+07</td>\n",
       "      <td>6.669795e+07</td>\n",
       "      <td>1.622680e+08</td>\n",
       "    </tr>\n",
       "    <tr>\n",
       "      <th>1</th>\n",
       "      <td>June</td>\n",
       "      <td>4.309912e+07</td>\n",
       "      <td>6.582791e+07</td>\n",
       "      <td>1.425230e+08</td>\n",
       "    </tr>\n",
       "    <tr>\n",
       "      <th>2</th>\n",
       "      <td>July</td>\n",
       "      <td>4.254616e+07</td>\n",
       "      <td>6.072804e+07</td>\n",
       "      <td>1.409636e+08</td>\n",
       "    </tr>\n",
       "    <tr>\n",
       "      <th>3</th>\n",
       "      <td>November</td>\n",
       "      <td>4.260006e+07</td>\n",
       "      <td>5.818117e+07</td>\n",
       "      <td>1.357416e+08</td>\n",
       "    </tr>\n",
       "    <tr>\n",
       "      <th>4</th>\n",
       "      <td>December</td>\n",
       "      <td>3.325161e+07</td>\n",
       "      <td>4.610082e+07</td>\n",
       "      <td>1.016932e+08</td>\n",
       "    </tr>\n",
       "  </tbody>\n",
       "</table>\n",
       "</div>"
      ],
      "text/plain": [
       "  release_month  production_budget  domestic_gross  worldwide_gross\n",
       "0           May       4.713520e+07    6.669795e+07     1.622680e+08\n",
       "1          June       4.309912e+07    6.582791e+07     1.425230e+08\n",
       "2          July       4.254616e+07    6.072804e+07     1.409636e+08\n",
       "3      November       4.260006e+07    5.818117e+07     1.357416e+08\n",
       "4      December       3.325161e+07    4.610082e+07     1.016932e+08"
      ]
     },
     "execution_count": 61,
     "metadata": {},
     "output_type": "execute_result"
    }
   ],
   "source": [
    "tn_movie_budgets_gbmonth_df.head()"
   ]
  },
  {
   "cell_type": "markdown",
   "metadata": {
    "ExecuteTime": {
     "end_time": "2022-04-11T23:04:35.161307Z",
     "start_time": "2022-04-11T23:04:35.158097Z"
    }
   },
   "source": [
    "# Exploratory Data Analysis"
   ]
  },
  {
   "cell_type": "markdown",
   "metadata": {},
   "source": [
    "### Data Analysis of Top Grossing Genres Domestically"
   ]
  },
  {
   "cell_type": "code",
   "execution_count": 27,
   "metadata": {
    "ExecuteTime": {
     "end_time": "2022-04-14T03:19:33.571612Z",
     "start_time": "2022-04-14T03:19:33.393413Z"
    }
   },
   "outputs": [
    {
     "data": {
      "image/png": "[encoded data removed]",
      "text/plain": [
       "<Figure size 432x288 with 1 Axes>"
      ]
     },
     "metadata": {
      "needs_background": "light"
     },
     "output_type": "display_data"
    }
   ],
   "source": [
    "sns.barplot(x='domestic_gross', y='genres', data=genres_dg_fg_mean_df.iloc[0:5]);"
   ]
  },
  {
   "cell_type": "code",
   "execution_count": 28,
   "metadata": {
    "ExecuteTime": {
     "end_time": "2022-04-14T03:19:33.576915Z",
     "start_time": "2022-04-14T03:19:33.573464Z"
    }
   },
   "outputs": [],
   "source": [
    "genres_dg_fg_mean_df.sort_values(by='domestic_gross', ascending=False, inplace=True)"
   ]
  },
  {
   "cell_type": "code",
   "execution_count": 29,
   "metadata": {
    "ExecuteTime": {
     "end_time": "2022-04-14T03:19:33.772328Z",
     "start_time": "2022-04-14T03:19:33.578936Z"
    },
    "scrolled": false
   },
   "outputs": [
    {
     "data": {
      "image/png": "[encoded data removed]",
      "text/plain": [
       "<Figure size 432x288 with 1 Axes>"
      ]
     },
     "metadata": {
      "needs_background": "light"
     },
     "output_type": "display_data"
    }
   ],
   "source": [
    "#plt.figure(figsize=(10,8))\n",
    "\n",
    "sns.barplot(x='domestic_gross', y='genres', data=genres_dg_fg_mean_df.iloc[0:5])\n",
    "plt.xlabel('Domestic Gross in 100 Million')\n",
    "plt.ylabel('Genres')\n",
    "plt.title('Top Grossing Genres Domestically');"
   ]
  },
  {
   "cell_type": "markdown",
   "metadata": {
    "ExecuteTime": {
     "end_time": "2022-04-11T23:04:34.134359Z",
     "start_time": "2022-04-11T23:04:34.132141Z"
    }
   },
   "source": [
    "#### The analysis concludes that the three top grossing genres domestically are:\n",
    "- Sci-Fi\n",
    "- Adventure\n",
    "- Animation"
   ]
  },
  {
   "cell_type": "markdown",
   "metadata": {},
   "source": [
    "### Data analysis of Top Grossing Directors Domestically"
   ]
  },
  {
   "cell_type": "code",
   "execution_count": 48,
   "metadata": {
    "ExecuteTime": {
     "end_time": "2022-04-14T03:19:34.948194Z",
     "start_time": "2022-04-14T03:19:34.752953Z"
    },
    "scrolled": false
   },
   "outputs": [
    {
     "data": {
      "image/png": "[encoded data removed]",
      "text/plain": [
       "<Figure size 432x288 with 1 Axes>"
      ]
     },
     "metadata": {
      "needs_background": "light"
     },
     "output_type": "display_data"
    }
   ],
   "source": [
    "#plt.figure(figsize=(10,8))\n",
    "\n",
    "sns.barplot(x='domestic_gross', y='primary_name', data=director_genres_nodup_mean_df.iloc[0:5]);\n",
    "plt.xlabel('Domestic Gross in 100 Million')\n",
    "plt.ylabel('Director Name')\n",
    "plt.title('Top Grossing Directors Domestically');"
   ]
  },
  {
   "cell_type": "markdown",
   "metadata": {
    "ExecuteTime": {
     "end_time": "2022-04-11T23:04:35.392198Z",
     "start_time": "2022-04-11T23:04:35.389291Z"
    }
   },
   "source": [
    "#### The analysis concludes that the three top grossing directors domestically are:\n",
    "- Joss Whedon\n",
    "- Patty Jenkins\n",
    "- Chi-kin Kwok"
   ]
  },
  {
   "cell_type": "markdown",
   "metadata": {
    "ExecuteTime": {
     "end_time": "2022-04-11T23:04:36.466711Z",
     "start_time": "2022-04-11T23:04:36.464408Z"
    }
   },
   "source": [
    "### Data Analysis of Domestic Gross by Release Month"
   ]
  },
  {
   "cell_type": "code",
   "execution_count": 62,
   "metadata": {
    "ExecuteTime": {
     "end_time": "2022-04-14T03:19:36.109725Z",
     "start_time": "2022-04-14T03:19:35.909298Z"
    }
   },
   "outputs": [
    {
     "data": {
      "image/png": "[encoded data removed]",
      "text/plain": [
       "<Figure size 432x288 with 1 Axes>"
      ]
     },
     "metadata": {
      "needs_background": "light"
     },
     "output_type": "display_data"
    }
   ],
   "source": [
    "#plt.figure(figsize=(10,8))\n",
    "sns.barplot(x='domestic_gross', y='release_month', data=tn_movie_budgets_gbmonth_df.iloc[0:5]);\n",
    "plt.xlabel('Domestic Gross in 10 Million')\n",
    "plt.ylabel('Release Month')\n",
    "plt.title('Domestic Gross by Release Month');"
   ]
  },
  {
   "cell_type": "markdown",
   "metadata": {},
   "source": [
    "#### The analysis concludes that the three top domestic gross by release month:\n",
    "- May\n",
    "- June\n",
    "- July"
   ]
  },
  {
   "cell_type": "markdown",
   "metadata": {},
   "source": [
    "# Conclusions\n",
    "\n",
    ">These results/analysis shows insight towards three recommended steps in helping to choose what films should be created by the film studio \n",
    "\n",
    "- __The three top grossing genres domestically are Sci-Fi, Adventure and Action films__\n",
    "\n",
    "These genres are good starting points\n",
    "\n",
    "- __The top three top grossing directors domestically would be Joss Whedon, Patty Jenkins and Chi-kin Kwok__\n",
    "\n",
    "Going by their track records all three directors would be good fits to direct film in the three top grossing genres mentioned above\n",
    "\n",
    "- __The top three domestic gross by release month would be May, June and July__\n",
    "\n",
    "The seasonal launch release time for a film is crucial, Spring/Summer seem to be common seasons associated with positive audience attendance to films \n",
    "\n",
    "\n",
    "\n"
   ]
  },
  {
   "cell_type": "markdown",
   "metadata": {},
   "source": [
    "## Limitations"
   ]
  },
  {
   "cell_type": "markdown",
   "metadata": {},
   "source": [
    "- Some entries in the dataset may lack information such as domestic_growth or release_date. \n",
    "- Additionally, crucial details like a film's budget or genre might be absent for certain records, leading to incomplete analysis"
   ]
  },
  {
   "cell_type": "markdown",
   "metadata": {},
   "source": [
    "## Recommendations"
   ]
  },
  {
   "cell_type": "markdown",
   "metadata": {},
   "source": [
    "Collaborate with can you players in the film industry-such as production companies,distributors, and regulatory bodies-to ensure alignment of standards policies and best practices for responsible and effective film making\n"
   ]
  },
  {
   "cell_type": "markdown",
   "metadata": {
    "ExecuteTime": {
     "end_time": "2022-04-11T23:04:36.706233Z",
     "start_time": "2022-04-11T23:04:36.703745Z"
    }
   },
   "source": [
    "## Next Steps\n",
    "- Once domestics releases are profitable, that's when the studio should consider thinking about global film releases\n",
    "- There may be overlapping data when considering top genre, director and release month for a global market"
   ]
  }
 ],
 "metadata": {
  "kernelspec": {
   "display_name": "Python (learn-env)",
   "language": "python",
   "name": "learn-env"
  },
  "language_info": {
   "codemirror_mode": {
    "name": "ipython",
    "version": 3
   },
   "file_extension": ".py",
   "mimetype": "text/x-python",
   "name": "python",
   "nbconvert_exporter": "python",
   "pygments_lexer": "ipython3",
   "version": "3.8.5"
  },
  "toc": {
   "base_numbering": 1,
   "nav_menu": {},
   "number_sections": true,
   "sideBar": true,
   "skip_h1_title": false,
   "title_cell": "Table of Contents",
   "title_sidebar": "Contents",
   "toc_cell": false,
   "toc_position": {
    "height": "calc(100% - 180px)",
    "left": "10px",
    "top": "150px",
    "width": "188px"
   },
   "toc_section_display": true,
   "toc_window_display": false
  },
  "varInspector": {
   "cols": {
    "lenName": 16,
    "lenType": 16,
    "lenVar": 40
   },
   "kernels_config": {
    "python": {
     "delete_cmd_postfix": "",
     "delete_cmd_prefix": "del ",
     "library": "var_list.py",
     "varRefreshCmd": "print(var_dic_list())"
    },
    "r": {
     "delete_cmd_postfix": ") ",
     "delete_cmd_prefix": "rm(",
     "library": "var_list.r",
     "varRefreshCmd": "cat(var_dic_list()) "
    }
   },
   "types_to_exclude": [
    "module",
    "function",
    "builtin_function_or_method",
    "instance",
    "_Feature"
   ],
   "window_display": false
  }
 },
 "nbformat": 4,
 "nbformat_minor": 2
}
